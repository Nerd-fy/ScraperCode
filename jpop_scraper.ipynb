{
  "nbformat": 4,
  "nbformat_minor": 0,
  "metadata": {
    "colab": {
      "name": "Untitled0.ipynb",
      "provenance": [],
      "collapsed_sections": []
    },
    "kernelspec": {
      "name": "python3",
      "display_name": "Python 3"
    }
  },
  "cells": [
    {
      "cell_type": "code",
      "metadata": {
        "id": "5qDsXf390-yF",
        "colab_type": "code",
        "colab": {
          "base_uri": "https://localhost:8080/",
          "height": 1000
        },
        "outputId": "125787ac-fc56-443e-9241-cbfc67222243"
      },
      "source": [
        "!pip install selenium\n",
        "!apt-get update\n",
        "!apt install chromium-chromedriver\n",
        "!cp /usr/lib/chromium-browser/chromedriver /usr/bin"
      ],
      "execution_count": 2,
      "outputs": [
        {
          "output_type": "stream",
          "text": [
            "Collecting selenium\n",
            "\u001b[?25l  Downloading https://files.pythonhosted.org/packages/80/d6/4294f0b4bce4de0abf13e17190289f9d0613b0a44e5dd6a7f5ca98459853/selenium-3.141.0-py2.py3-none-any.whl (904kB)\n",
            "\r\u001b[K     |▍                               | 10kB 24.9MB/s eta 0:00:01\r\u001b[K     |▊                               | 20kB 5.7MB/s eta 0:00:01\r\u001b[K     |█                               | 30kB 7.1MB/s eta 0:00:01\r\u001b[K     |█▌                              | 40kB 7.7MB/s eta 0:00:01\r\u001b[K     |█▉                              | 51kB 6.3MB/s eta 0:00:01\r\u001b[K     |██▏                             | 61kB 6.8MB/s eta 0:00:01\r\u001b[K     |██▌                             | 71kB 7.3MB/s eta 0:00:01\r\u001b[K     |███                             | 81kB 7.9MB/s eta 0:00:01\r\u001b[K     |███▎                            | 92kB 7.3MB/s eta 0:00:01\r\u001b[K     |███▋                            | 102kB 7.6MB/s eta 0:00:01\r\u001b[K     |████                            | 112kB 7.6MB/s eta 0:00:01\r\u001b[K     |████▍                           | 122kB 7.6MB/s eta 0:00:01\r\u001b[K     |████▊                           | 133kB 7.6MB/s eta 0:00:01\r\u001b[K     |█████                           | 143kB 7.6MB/s eta 0:00:01\r\u001b[K     |█████▍                          | 153kB 7.6MB/s eta 0:00:01\r\u001b[K     |█████▉                          | 163kB 7.6MB/s eta 0:00:01\r\u001b[K     |██████▏                         | 174kB 7.6MB/s eta 0:00:01\r\u001b[K     |██████▌                         | 184kB 7.6MB/s eta 0:00:01\r\u001b[K     |██████▉                         | 194kB 7.6MB/s eta 0:00:01\r\u001b[K     |███████▎                        | 204kB 7.6MB/s eta 0:00:01\r\u001b[K     |███████▋                        | 215kB 7.6MB/s eta 0:00:01\r\u001b[K     |████████                        | 225kB 7.6MB/s eta 0:00:01\r\u001b[K     |████████▎                       | 235kB 7.6MB/s eta 0:00:01\r\u001b[K     |████████▊                       | 245kB 7.6MB/s eta 0:00:01\r\u001b[K     |█████████                       | 256kB 7.6MB/s eta 0:00:01\r\u001b[K     |█████████▍                      | 266kB 7.6MB/s eta 0:00:01\r\u001b[K     |█████████▉                      | 276kB 7.6MB/s eta 0:00:01\r\u001b[K     |██████████▏                     | 286kB 7.6MB/s eta 0:00:01\r\u001b[K     |██████████▌                     | 296kB 7.6MB/s eta 0:00:01\r\u001b[K     |██████████▉                     | 307kB 7.6MB/s eta 0:00:01\r\u001b[K     |███████████▎                    | 317kB 7.6MB/s eta 0:00:01\r\u001b[K     |███████████▋                    | 327kB 7.6MB/s eta 0:00:01\r\u001b[K     |████████████                    | 337kB 7.6MB/s eta 0:00:01\r\u001b[K     |████████████▎                   | 348kB 7.6MB/s eta 0:00:01\r\u001b[K     |████████████▊                   | 358kB 7.6MB/s eta 0:00:01\r\u001b[K     |█████████████                   | 368kB 7.6MB/s eta 0:00:01\r\u001b[K     |█████████████▍                  | 378kB 7.6MB/s eta 0:00:01\r\u001b[K     |█████████████▊                  | 389kB 7.6MB/s eta 0:00:01\r\u001b[K     |██████████████▏                 | 399kB 7.6MB/s eta 0:00:01\r\u001b[K     |██████████████▌                 | 409kB 7.6MB/s eta 0:00:01\r\u001b[K     |██████████████▉                 | 419kB 7.6MB/s eta 0:00:01\r\u001b[K     |███████████████▏                | 430kB 7.6MB/s eta 0:00:01\r\u001b[K     |███████████████▋                | 440kB 7.6MB/s eta 0:00:01\r\u001b[K     |████████████████                | 450kB 7.6MB/s eta 0:00:01\r\u001b[K     |████████████████▎               | 460kB 7.6MB/s eta 0:00:01\r\u001b[K     |████████████████▋               | 471kB 7.6MB/s eta 0:00:01\r\u001b[K     |█████████████████               | 481kB 7.6MB/s eta 0:00:01\r\u001b[K     |█████████████████▍              | 491kB 7.6MB/s eta 0:00:01\r\u001b[K     |█████████████████▊              | 501kB 7.6MB/s eta 0:00:01\r\u001b[K     |██████████████████▏             | 512kB 7.6MB/s eta 0:00:01\r\u001b[K     |██████████████████▌             | 522kB 7.6MB/s eta 0:00:01\r\u001b[K     |██████████████████▉             | 532kB 7.6MB/s eta 0:00:01\r\u001b[K     |███████████████████▏            | 542kB 7.6MB/s eta 0:00:01\r\u001b[K     |███████████████████▋            | 552kB 7.6MB/s eta 0:00:01\r\u001b[K     |████████████████████            | 563kB 7.6MB/s eta 0:00:01\r\u001b[K     |████████████████████▎           | 573kB 7.6MB/s eta 0:00:01\r\u001b[K     |████████████████████▋           | 583kB 7.6MB/s eta 0:00:01\r\u001b[K     |█████████████████████           | 593kB 7.6MB/s eta 0:00:01\r\u001b[K     |█████████████████████▍          | 604kB 7.6MB/s eta 0:00:01\r\u001b[K     |█████████████████████▊          | 614kB 7.6MB/s eta 0:00:01\r\u001b[K     |██████████████████████          | 624kB 7.6MB/s eta 0:00:01\r\u001b[K     |██████████████████████▌         | 634kB 7.6MB/s eta 0:00:01\r\u001b[K     |██████████████████████▉         | 645kB 7.6MB/s eta 0:00:01\r\u001b[K     |███████████████████████▏        | 655kB 7.6MB/s eta 0:00:01\r\u001b[K     |███████████████████████▌        | 665kB 7.6MB/s eta 0:00:01\r\u001b[K     |████████████████████████        | 675kB 7.6MB/s eta 0:00:01\r\u001b[K     |████████████████████████▎       | 686kB 7.6MB/s eta 0:00:01\r\u001b[K     |████████████████████████▋       | 696kB 7.6MB/s eta 0:00:01\r\u001b[K     |█████████████████████████       | 706kB 7.6MB/s eta 0:00:01\r\u001b[K     |█████████████████████████▍      | 716kB 7.6MB/s eta 0:00:01\r\u001b[K     |█████████████████████████▊      | 727kB 7.6MB/s eta 0:00:01\r\u001b[K     |██████████████████████████      | 737kB 7.6MB/s eta 0:00:01\r\u001b[K     |██████████████████████████▍     | 747kB 7.6MB/s eta 0:00:01\r\u001b[K     |██████████████████████████▉     | 757kB 7.6MB/s eta 0:00:01\r\u001b[K     |███████████████████████████▏    | 768kB 7.6MB/s eta 0:00:01\r\u001b[K     |███████████████████████████▌    | 778kB 7.6MB/s eta 0:00:01\r\u001b[K     |████████████████████████████    | 788kB 7.6MB/s eta 0:00:01\r\u001b[K     |████████████████████████████▎   | 798kB 7.6MB/s eta 0:00:01\r\u001b[K     |████████████████████████████▋   | 808kB 7.6MB/s eta 0:00:01\r\u001b[K     |█████████████████████████████   | 819kB 7.6MB/s eta 0:00:01\r\u001b[K     |█████████████████████████████▍  | 829kB 7.6MB/s eta 0:00:01\r\u001b[K     |█████████████████████████████▊  | 839kB 7.6MB/s eta 0:00:01\r\u001b[K     |██████████████████████████████  | 849kB 7.6MB/s eta 0:00:01\r\u001b[K     |██████████████████████████████▍ | 860kB 7.6MB/s eta 0:00:01\r\u001b[K     |██████████████████████████████▉ | 870kB 7.6MB/s eta 0:00:01\r\u001b[K     |███████████████████████████████▏| 880kB 7.6MB/s eta 0:00:01\r\u001b[K     |███████████████████████████████▌| 890kB 7.6MB/s eta 0:00:01\r\u001b[K     |███████████████████████████████▉| 901kB 7.6MB/s eta 0:00:01\r\u001b[K     |████████████████████████████████| 911kB 7.6MB/s \n",
            "\u001b[?25hRequirement already satisfied: urllib3 in /usr/local/lib/python3.6/dist-packages (from selenium) (1.24.3)\n",
            "Installing collected packages: selenium\n",
            "Successfully installed selenium-3.141.0\n",
            "Hit:1 http://archive.ubuntu.com/ubuntu bionic InRelease\n",
            "Get:2 http://archive.ubuntu.com/ubuntu bionic-updates InRelease [88.7 kB]\n",
            "Get:3 https://cloud.r-project.org/bin/linux/ubuntu bionic-cran35/ InRelease [3,626 B]\n",
            "Get:4 http://archive.ubuntu.com/ubuntu bionic-backports InRelease [74.6 kB]\n",
            "Hit:5 http://ppa.launchpad.net/graphics-drivers/ppa/ubuntu bionic InRelease\n",
            "Get:6 http://ppa.launchpad.net/marutter/c2d4u3.5/ubuntu bionic InRelease [15.4 kB]\n",
            "Get:7 http://security.ubuntu.com/ubuntu bionic-security InRelease [88.7 kB]\n",
            "Ign:8 https://developer.download.nvidia.com/compute/cuda/repos/ubuntu1804/x86_64  InRelease\n",
            "Get:9 http://archive.ubuntu.com/ubuntu bionic-updates/universe amd64 Packages [1,413 kB]\n",
            "Get:10 http://archive.ubuntu.com/ubuntu bionic-updates/main amd64 Packages [1,334 kB]\n",
            "Get:11 http://archive.ubuntu.com/ubuntu bionic-updates/restricted amd64 Packages [116 kB]\n",
            "Get:12 http://archive.ubuntu.com/ubuntu bionic-updates/multiverse amd64 Packages [27.1 kB]\n",
            "Ign:13 https://developer.download.nvidia.com/compute/machine-learning/repos/ubuntu1804/x86_64  InRelease\n",
            "Hit:14 https://developer.download.nvidia.com/compute/cuda/repos/ubuntu1804/x86_64  Release\n",
            "Hit:15 https://developer.download.nvidia.com/compute/machine-learning/repos/ubuntu1804/x86_64  Release\n",
            "Get:16 http://ppa.launchpad.net/marutter/c2d4u3.5/ubuntu bionic/main Sources [1,853 kB]\n",
            "Get:17 http://ppa.launchpad.net/marutter/c2d4u3.5/ubuntu bionic/main amd64 Packages [894 kB]\n",
            "Fetched 5,909 kB in 2s (3,245 kB/s)\n",
            "Reading package lists... Done\n",
            "Reading package lists... Done\n",
            "Building dependency tree       \n",
            "Reading state information... Done\n",
            "The following package was automatically installed and is no longer required:\n",
            "  libnvidia-common-440\n",
            "Use 'apt autoremove' to remove it.\n",
            "The following additional packages will be installed:\n",
            "  chromium-browser chromium-browser-l10n chromium-codecs-ffmpeg-extra\n",
            "Suggested packages:\n",
            "  webaccounts-chromium-extension unity-chromium-extension adobe-flashplugin\n",
            "The following NEW packages will be installed:\n",
            "  chromium-browser chromium-browser-l10n chromium-chromedriver\n",
            "  chromium-codecs-ffmpeg-extra\n",
            "0 upgraded, 4 newly installed, 0 to remove and 38 not upgraded.\n",
            "Need to get 75.5 MB of archives.\n",
            "After this operation, 256 MB of additional disk space will be used.\n",
            "Get:1 http://archive.ubuntu.com/ubuntu bionic-updates/universe amd64 chromium-codecs-ffmpeg-extra amd64 83.0.4103.61-0ubuntu0.18.04.1 [1,119 kB]\n",
            "Get:2 http://archive.ubuntu.com/ubuntu bionic-updates/universe amd64 chromium-browser amd64 83.0.4103.61-0ubuntu0.18.04.1 [66.7 MB]\n",
            "Get:3 http://archive.ubuntu.com/ubuntu bionic-updates/universe amd64 chromium-browser-l10n all 83.0.4103.61-0ubuntu0.18.04.1 [3,378 kB]\n",
            "Get:4 http://archive.ubuntu.com/ubuntu bionic-updates/universe amd64 chromium-chromedriver amd64 83.0.4103.61-0ubuntu0.18.04.1 [4,294 kB]\n",
            "Fetched 75.5 MB in 1s (68.6 MB/s)\n",
            "Selecting previously unselected package chromium-codecs-ffmpeg-extra.\n",
            "(Reading database ... 144487 files and directories currently installed.)\n",
            "Preparing to unpack .../chromium-codecs-ffmpeg-extra_83.0.4103.61-0ubuntu0.18.04.1_amd64.deb ...\n",
            "Unpacking chromium-codecs-ffmpeg-extra (83.0.4103.61-0ubuntu0.18.04.1) ...\n",
            "Selecting previously unselected package chromium-browser.\n",
            "Preparing to unpack .../chromium-browser_83.0.4103.61-0ubuntu0.18.04.1_amd64.deb ...\n",
            "Unpacking chromium-browser (83.0.4103.61-0ubuntu0.18.04.1) ...\n",
            "Selecting previously unselected package chromium-browser-l10n.\n",
            "Preparing to unpack .../chromium-browser-l10n_83.0.4103.61-0ubuntu0.18.04.1_all.deb ...\n",
            "Unpacking chromium-browser-l10n (83.0.4103.61-0ubuntu0.18.04.1) ...\n",
            "Selecting previously unselected package chromium-chromedriver.\n",
            "Preparing to unpack .../chromium-chromedriver_83.0.4103.61-0ubuntu0.18.04.1_amd64.deb ...\n",
            "Unpacking chromium-chromedriver (83.0.4103.61-0ubuntu0.18.04.1) ...\n",
            "Setting up chromium-codecs-ffmpeg-extra (83.0.4103.61-0ubuntu0.18.04.1) ...\n",
            "Setting up chromium-browser (83.0.4103.61-0ubuntu0.18.04.1) ...\n",
            "update-alternatives: using /usr/bin/chromium-browser to provide /usr/bin/x-www-browser (x-www-browser) in auto mode\n",
            "update-alternatives: using /usr/bin/chromium-browser to provide /usr/bin/gnome-www-browser (gnome-www-browser) in auto mode\n",
            "Setting up chromium-chromedriver (83.0.4103.61-0ubuntu0.18.04.1) ...\n",
            "Setting up chromium-browser-l10n (83.0.4103.61-0ubuntu0.18.04.1) ...\n",
            "Processing triggers for hicolor-icon-theme (0.17-2) ...\n",
            "Processing triggers for mime-support (3.60ubuntu1) ...\n",
            "Processing triggers for man-db (2.8.3-2ubuntu0.1) ...\n",
            "cp: '/usr/lib/chromium-browser/chromedriver' and '/usr/bin/chromedriver' are the same file\n"
          ],
          "name": "stdout"
        }
      ]
    },
    {
      "cell_type": "code",
      "metadata": {
        "id": "GNjGDGtD1DL1",
        "colab_type": "code",
        "colab": {}
      },
      "source": [
        "import sys\n",
        "sys.path.insert(0,'/usr/local/bin/chromedriver')\n",
        "from selenium import webdriver\n",
        "from tqdm import tqdm_notebook as tqdm\n",
        "import pandas as pd\n",
        "import json\n",
        "import pprint\n",
        "import time\n",
        "import pickle\n",
        "import re\n"
      ],
      "execution_count": 3,
      "outputs": []
    },
    {
      "cell_type": "code",
      "metadata": {
        "id": "F5Vmxx7kap64",
        "colab_type": "code",
        "colab": {}
      },
      "source": [
        "chrome_options=webdriver.ChromeOptions()\n",
        "chrome_options.add_argument('--headless')\n",
        "chrome_options.add_argument('--no-sandbox')\n",
        "chrome_options.add_argument('--disable-dev-shm-usage')\n",
        "wd = webdriver.Chrome('chromedriver',options=chrome_options)\n",
        "wd.set_window_size(1900, 1200)\n",
        "wd.maximize_window()\n",
        "wd.get(\"https://www.j-pop.it/293-j-pop-manga#/\")"
      ],
      "execution_count": 4,
      "outputs": []
    },
    {
      "cell_type": "code",
      "metadata": {
        "id": "7qeqUwRrayjq",
        "colab_type": "code",
        "colab": {}
      },
      "source": [
        "a = wd.find_elements_by_css_selector(\"#center_column > div > div.main-container.col2-left-layout > div > div.col-main > div.resumecat.category-product-count\")"
      ],
      "execution_count": 6,
      "outputs": []
    },
    {
      "cell_type": "code",
      "metadata": {
        "id": "0KBWwlm0a29w",
        "colab_type": "code",
        "colab": {
          "base_uri": "https://localhost:8080/",
          "height": 34
        },
        "outputId": "ffe755be-eb08-48e1-d3e9-51a3059bd966"
      },
      "source": [
        "print(a[0].text) #numero prodotti"
      ],
      "execution_count": 7,
      "outputs": [
        {
          "output_type": "stream",
          "text": [
            "Ci sono 2726 prodotti.\n"
          ],
          "name": "stdout"
        }
      ]
    },
    {
      "cell_type": "code",
      "metadata": {
        "id": "ltJvA6Wia64h",
        "colab_type": "code",
        "colab": {}
      },
      "source": [
        "lista_link_manga= []\n",
        "len_manga_page= wd.find_elements_by_css_selector(\"#grid_view_product > li > div > div > div > div.name > a\")\n",
        "for _ in range(len(len_manga_page)):\n",
        "    lista_link_manga.append(wd.find_element_by_css_selector(f\"#grid_view_product > li:nth-child({_+1}) > div > div > div > div.name> a\").get_attribute(\"href\"))"
      ],
      "execution_count": 8,
      "outputs": []
    },
    {
      "cell_type": "code",
      "metadata": {
        "id": "j-4XsOC2a-U1",
        "colab_type": "code",
        "colab": {}
      },
      "source": [
        "url = wd.find_element_by_css_selector(\"#grid_view_product > li > div > div > div > div.name > a\").get_attribute(\"href\")"
      ],
      "execution_count": 9,
      "outputs": []
    },
    {
      "cell_type": "code",
      "metadata": {
        "id": "7rieNc7MbAy7",
        "colab_type": "code",
        "colab": {
          "base_uri": "https://localhost:8080/",
          "height": 34
        },
        "outputId": "e26ad39e-5246-4b53-a7ab-14f543f4da25"
      },
      "source": [
        "print(url)"
      ],
      "execution_count": 10,
      "outputs": [
        {
          "output_type": "stream",
          "text": [
            "https://www.j-pop.it/barbara/5310-barbara-001.html\n"
          ],
          "name": "stdout"
        }
      ]
    },
    {
      "cell_type": "code",
      "metadata": {
        "id": "XwN1bDd7bC7c",
        "colab_type": "code",
        "colab": {}
      },
      "source": [
        "num_pagine_sito = int(wd.find_element_by_css_selector(\"#pagination > ul > li:nth-child(6) > a\").text)"
      ],
      "execution_count": 11,
      "outputs": []
    },
    {
      "cell_type": "code",
      "metadata": {
        "id": "ZIohfSiebGJ-",
        "colab_type": "code",
        "colab": {
          "base_uri": "https://localhost:8080/",
          "height": 1000
        },
        "outputId": "8d3f57f9-1598-4a70-e02f-6b8618ab58c6"
      },
      "source": [
        "lista_link_manga= []\n",
        "for __ in range(1,num_pagine_sito):\n",
        "#for __ in range(1,3):\n",
        "    print(\"Pagina Sito #\",f\"https://www.j-pop.it/293-j-pop-manga#//page-{__}\")\n",
        "    try:\n",
        "        if __ == 1:\n",
        "            #time.sleep(4)\n",
        "            chrome_options=webdriver.ChromeOptions()\n",
        "            chrome_options.add_argument('--headless')\n",
        "            chrome_options.add_argument('--no-sandbox')\n",
        "            chrome_options.add_argument('--disable-dev-shm-usage')\n",
        "            wd = webdriver.Chrome('chromedriver',options=chrome_options)\n",
        "            wd.set_window_size(1900, 1200)\n",
        "            wd.maximize_window()\n",
        "            wd.get(\"https://www.j-pop.it/293-j-pop-manga#/\")\n",
        "            try:\n",
        "                button =wd.find_element_by_css_selector(\"#category > div.cc-window.cc-banner.cc-type-info.cc-theme-block.cc-bottom.cc-color-override--1502307190 > div\")\n",
        "                button.click()\n",
        "            except:\n",
        "                continue\n",
        "            len_manga_page= wd.find_elements_by_css_selector(\"#grid_view_product > li > div > div > div > div.name > a\")\n",
        "            for _ in range(len(len_manga_page)):\n",
        "                lista_link_manga.append(wd.find_element_by_css_selector(f\"#grid_view_product > li:nth-child({_+1}) > div > div > div > div.name> a\").get_attribute(\"href\"))\n",
        "        else:\n",
        "            #time.sleep(4)\n",
        "            chrome_options=webdriver.ChromeOptions()\n",
        "            chrome_options.add_argument('--headless')\n",
        "            chrome_options.add_argument('--no-sandbox')\n",
        "            chrome_options.add_argument('--disable-dev-shm-usage')\n",
        "            wd = webdriver.Chrome('chromedriver',options=chrome_options)\n",
        "            wd.set_window_size(1900, 1200)\n",
        "            wd.maximize_window()\n",
        "            wd.get(f\"https://www.j-pop.it/293-j-pop-manga#//page-{__}\")\n",
        "            try:\n",
        "                button =wd.find_element_by_css_selector(\"#category > div.cc-window.cc-banner.cc-type-info.cc-theme-block.cc-bottom.cc-color-override--1502307190 > div\")\n",
        "                button.click()\n",
        "            except:\n",
        "                continue\n",
        "            len_manga_page= wd.find_elements_by_css_selector(\"#grid_view_product > li > div > div > div > div.name > a\")\n",
        "            for _ in range(len(len_manga_page)):\n",
        "                lista_link_manga.append(wd.find_element_by_css_selector(f\"#grid_view_product > li:nth-child({_+1}) > div > div > div > div.name> a\").get_attribute(\"href\"))\n",
        "    except  Exception as e :\n",
        "        print(e)\n",
        "        continue"
      ],
      "execution_count": 12,
      "outputs": [
        {
          "output_type": "stream",
          "text": [
            "Pagina Sito # https://www.j-pop.it/293-j-pop-manga#//page-1\n",
            "Pagina Sito # https://www.j-pop.it/293-j-pop-manga#//page-2\n",
            "Pagina Sito # https://www.j-pop.it/293-j-pop-manga#//page-3\n",
            "Message: stale element reference: element is not attached to the page document\n",
            "  (Session info: headless chrome=83.0.4103.61)\n",
            "\n",
            "Pagina Sito # https://www.j-pop.it/293-j-pop-manga#//page-4\n",
            "Message: stale element reference: element is not attached to the page document\n",
            "  (Session info: headless chrome=83.0.4103.61)\n",
            "\n",
            "Pagina Sito # https://www.j-pop.it/293-j-pop-manga#//page-5\n",
            "Pagina Sito # https://www.j-pop.it/293-j-pop-manga#//page-6\n",
            "Pagina Sito # https://www.j-pop.it/293-j-pop-manga#//page-7\n",
            "Message: stale element reference: element is not attached to the page document\n",
            "  (Session info: headless chrome=83.0.4103.61)\n",
            "\n",
            "Pagina Sito # https://www.j-pop.it/293-j-pop-manga#//page-8\n",
            "Pagina Sito # https://www.j-pop.it/293-j-pop-manga#//page-9\n",
            "Pagina Sito # https://www.j-pop.it/293-j-pop-manga#//page-10\n",
            "Pagina Sito # https://www.j-pop.it/293-j-pop-manga#//page-11\n",
            "Pagina Sito # https://www.j-pop.it/293-j-pop-manga#//page-12\n",
            "Pagina Sito # https://www.j-pop.it/293-j-pop-manga#//page-13\n",
            "Pagina Sito # https://www.j-pop.it/293-j-pop-manga#//page-14\n",
            "Pagina Sito # https://www.j-pop.it/293-j-pop-manga#//page-15\n",
            "Pagina Sito # https://www.j-pop.it/293-j-pop-manga#//page-16\n",
            "Pagina Sito # https://www.j-pop.it/293-j-pop-manga#//page-17\n",
            "Pagina Sito # https://www.j-pop.it/293-j-pop-manga#//page-18\n",
            "Pagina Sito # https://www.j-pop.it/293-j-pop-manga#//page-19\n",
            "Message: stale element reference: element is not attached to the page document\n",
            "  (Session info: headless chrome=83.0.4103.61)\n",
            "\n",
            "Pagina Sito # https://www.j-pop.it/293-j-pop-manga#//page-20\n",
            "Pagina Sito # https://www.j-pop.it/293-j-pop-manga#//page-21\n",
            "Pagina Sito # https://www.j-pop.it/293-j-pop-manga#//page-22\n",
            "Pagina Sito # https://www.j-pop.it/293-j-pop-manga#//page-23\n",
            "Message: stale element reference: element is not attached to the page document\n",
            "  (Session info: headless chrome=83.0.4103.61)\n",
            "\n",
            "Pagina Sito # https://www.j-pop.it/293-j-pop-manga#//page-24\n",
            "Pagina Sito # https://www.j-pop.it/293-j-pop-manga#//page-25\n",
            "Pagina Sito # https://www.j-pop.it/293-j-pop-manga#//page-26\n",
            "Pagina Sito # https://www.j-pop.it/293-j-pop-manga#//page-27\n",
            "Pagina Sito # https://www.j-pop.it/293-j-pop-manga#//page-28\n",
            "Pagina Sito # https://www.j-pop.it/293-j-pop-manga#//page-29\n",
            "Message: stale element reference: element is not attached to the page document\n",
            "  (Session info: headless chrome=83.0.4103.61)\n",
            "\n",
            "Pagina Sito # https://www.j-pop.it/293-j-pop-manga#//page-30\n",
            "Pagina Sito # https://www.j-pop.it/293-j-pop-manga#//page-31\n",
            "Pagina Sito # https://www.j-pop.it/293-j-pop-manga#//page-32\n",
            "Pagina Sito # https://www.j-pop.it/293-j-pop-manga#//page-33\n",
            "Message: stale element reference: element is not attached to the page document\n",
            "  (Session info: headless chrome=83.0.4103.61)\n",
            "\n",
            "Pagina Sito # https://www.j-pop.it/293-j-pop-manga#//page-34\n",
            "Pagina Sito # https://www.j-pop.it/293-j-pop-manga#//page-35\n",
            "Message: stale element reference: element is not attached to the page document\n",
            "  (Session info: headless chrome=83.0.4103.61)\n",
            "\n",
            "Pagina Sito # https://www.j-pop.it/293-j-pop-manga#//page-36\n",
            "Pagina Sito # https://www.j-pop.it/293-j-pop-manga#//page-37\n",
            "Message: stale element reference: element is not attached to the page document\n",
            "  (Session info: headless chrome=83.0.4103.61)\n",
            "\n",
            "Pagina Sito # https://www.j-pop.it/293-j-pop-manga#//page-38\n",
            "Message: stale element reference: element is not attached to the page document\n",
            "  (Session info: headless chrome=83.0.4103.61)\n",
            "\n",
            "Pagina Sito # https://www.j-pop.it/293-j-pop-manga#//page-39\n",
            "Pagina Sito # https://www.j-pop.it/293-j-pop-manga#//page-40\n",
            "Message: stale element reference: element is not attached to the page document\n",
            "  (Session info: headless chrome=83.0.4103.61)\n",
            "\n",
            "Pagina Sito # https://www.j-pop.it/293-j-pop-manga#//page-41\n",
            "Pagina Sito # https://www.j-pop.it/293-j-pop-manga#//page-42\n",
            "Pagina Sito # https://www.j-pop.it/293-j-pop-manga#//page-43\n",
            "Pagina Sito # https://www.j-pop.it/293-j-pop-manga#//page-44\n",
            "Pagina Sito # https://www.j-pop.it/293-j-pop-manga#//page-45\n",
            "Pagina Sito # https://www.j-pop.it/293-j-pop-manga#//page-46\n"
          ],
          "name": "stdout"
        },
        {
          "output_type": "error",
          "ename": "KeyboardInterrupt",
          "evalue": "ignored",
          "traceback": [
            "\u001b[0;31m---------------------------------------------------------------------------\u001b[0m",
            "\u001b[0;31mTypeError\u001b[0m                                 Traceback (most recent call last)",
            "\u001b[0;32m/usr/local/lib/python3.6/dist-packages/urllib3/connectionpool.py\u001b[0m in \u001b[0;36m_make_request\u001b[0;34m(self, conn, method, url, timeout, chunked, **httplib_request_kw)\u001b[0m\n\u001b[1;32m    376\u001b[0m             \u001b[0;32mtry\u001b[0m\u001b[0;34m:\u001b[0m  \u001b[0;31m# Python 2.7, use buffering of HTTP responses\u001b[0m\u001b[0;34m\u001b[0m\u001b[0;34m\u001b[0m\u001b[0m\n\u001b[0;32m--> 377\u001b[0;31m                 \u001b[0mhttplib_response\u001b[0m \u001b[0;34m=\u001b[0m \u001b[0mconn\u001b[0m\u001b[0;34m.\u001b[0m\u001b[0mgetresponse\u001b[0m\u001b[0;34m(\u001b[0m\u001b[0mbuffering\u001b[0m\u001b[0;34m=\u001b[0m\u001b[0;32mTrue\u001b[0m\u001b[0;34m)\u001b[0m\u001b[0;34m\u001b[0m\u001b[0;34m\u001b[0m\u001b[0m\n\u001b[0m\u001b[1;32m    378\u001b[0m             \u001b[0;32mexcept\u001b[0m \u001b[0mTypeError\u001b[0m\u001b[0;34m:\u001b[0m  \u001b[0;31m# Python 3\u001b[0m\u001b[0;34m\u001b[0m\u001b[0;34m\u001b[0m\u001b[0m\n",
            "\u001b[0;31mTypeError\u001b[0m: getresponse() got an unexpected keyword argument 'buffering'",
            "\nDuring handling of the above exception, another exception occurred:\n",
            "\u001b[0;31mKeyboardInterrupt\u001b[0m                         Traceback (most recent call last)",
            "\u001b[0;32m<ipython-input-12-d0b5237750bd>\u001b[0m in \u001b[0;36m<module>\u001b[0;34m()\u001b[0m\n\u001b[1;32m     31\u001b[0m             \u001b[0mwd\u001b[0m\u001b[0;34m.\u001b[0m\u001b[0mset_window_size\u001b[0m\u001b[0;34m(\u001b[0m\u001b[0;36m1900\u001b[0m\u001b[0;34m,\u001b[0m \u001b[0;36m1200\u001b[0m\u001b[0;34m)\u001b[0m\u001b[0;34m\u001b[0m\u001b[0;34m\u001b[0m\u001b[0m\n\u001b[1;32m     32\u001b[0m             \u001b[0mwd\u001b[0m\u001b[0;34m.\u001b[0m\u001b[0mmaximize_window\u001b[0m\u001b[0;34m(\u001b[0m\u001b[0;34m)\u001b[0m\u001b[0;34m\u001b[0m\u001b[0;34m\u001b[0m\u001b[0m\n\u001b[0;32m---> 33\u001b[0;31m             \u001b[0mwd\u001b[0m\u001b[0;34m.\u001b[0m\u001b[0mget\u001b[0m\u001b[0;34m(\u001b[0m\u001b[0;34mf\"https://www.j-pop.it/293-j-pop-manga#//page-{__}\"\u001b[0m\u001b[0;34m)\u001b[0m\u001b[0;34m\u001b[0m\u001b[0;34m\u001b[0m\u001b[0m\n\u001b[0m\u001b[1;32m     34\u001b[0m             \u001b[0;32mtry\u001b[0m\u001b[0;34m:\u001b[0m\u001b[0;34m\u001b[0m\u001b[0;34m\u001b[0m\u001b[0m\n\u001b[1;32m     35\u001b[0m                 \u001b[0mbutton\u001b[0m \u001b[0;34m=\u001b[0m\u001b[0mwd\u001b[0m\u001b[0;34m.\u001b[0m\u001b[0mfind_element_by_css_selector\u001b[0m\u001b[0;34m(\u001b[0m\u001b[0;34m\"#category > div.cc-window.cc-banner.cc-type-info.cc-theme-block.cc-bottom.cc-color-override--1502307190 > div\"\u001b[0m\u001b[0;34m)\u001b[0m\u001b[0;34m\u001b[0m\u001b[0;34m\u001b[0m\u001b[0m\n",
            "\u001b[0;32m/usr/local/lib/python3.6/dist-packages/selenium/webdriver/remote/webdriver.py\u001b[0m in \u001b[0;36mget\u001b[0;34m(self, url)\u001b[0m\n\u001b[1;32m    331\u001b[0m         \u001b[0mLoads\u001b[0m \u001b[0ma\u001b[0m \u001b[0mweb\u001b[0m \u001b[0mpage\u001b[0m \u001b[0;32min\u001b[0m \u001b[0mthe\u001b[0m \u001b[0mcurrent\u001b[0m \u001b[0mbrowser\u001b[0m \u001b[0msession\u001b[0m\u001b[0;34m.\u001b[0m\u001b[0;34m\u001b[0m\u001b[0;34m\u001b[0m\u001b[0m\n\u001b[1;32m    332\u001b[0m         \"\"\"\n\u001b[0;32m--> 333\u001b[0;31m         \u001b[0mself\u001b[0m\u001b[0;34m.\u001b[0m\u001b[0mexecute\u001b[0m\u001b[0;34m(\u001b[0m\u001b[0mCommand\u001b[0m\u001b[0;34m.\u001b[0m\u001b[0mGET\u001b[0m\u001b[0;34m,\u001b[0m \u001b[0;34m{\u001b[0m\u001b[0;34m'url'\u001b[0m\u001b[0;34m:\u001b[0m \u001b[0murl\u001b[0m\u001b[0;34m}\u001b[0m\u001b[0;34m)\u001b[0m\u001b[0;34m\u001b[0m\u001b[0;34m\u001b[0m\u001b[0m\n\u001b[0m\u001b[1;32m    334\u001b[0m \u001b[0;34m\u001b[0m\u001b[0m\n\u001b[1;32m    335\u001b[0m     \u001b[0;34m@\u001b[0m\u001b[0mproperty\u001b[0m\u001b[0;34m\u001b[0m\u001b[0;34m\u001b[0m\u001b[0m\n",
            "\u001b[0;32m/usr/local/lib/python3.6/dist-packages/selenium/webdriver/remote/webdriver.py\u001b[0m in \u001b[0;36mexecute\u001b[0;34m(self, driver_command, params)\u001b[0m\n\u001b[1;32m    317\u001b[0m \u001b[0;34m\u001b[0m\u001b[0m\n\u001b[1;32m    318\u001b[0m         \u001b[0mparams\u001b[0m \u001b[0;34m=\u001b[0m \u001b[0mself\u001b[0m\u001b[0;34m.\u001b[0m\u001b[0m_wrap_value\u001b[0m\u001b[0;34m(\u001b[0m\u001b[0mparams\u001b[0m\u001b[0;34m)\u001b[0m\u001b[0;34m\u001b[0m\u001b[0;34m\u001b[0m\u001b[0m\n\u001b[0;32m--> 319\u001b[0;31m         \u001b[0mresponse\u001b[0m \u001b[0;34m=\u001b[0m \u001b[0mself\u001b[0m\u001b[0;34m.\u001b[0m\u001b[0mcommand_executor\u001b[0m\u001b[0;34m.\u001b[0m\u001b[0mexecute\u001b[0m\u001b[0;34m(\u001b[0m\u001b[0mdriver_command\u001b[0m\u001b[0;34m,\u001b[0m \u001b[0mparams\u001b[0m\u001b[0;34m)\u001b[0m\u001b[0;34m\u001b[0m\u001b[0;34m\u001b[0m\u001b[0m\n\u001b[0m\u001b[1;32m    320\u001b[0m         \u001b[0;32mif\u001b[0m \u001b[0mresponse\u001b[0m\u001b[0;34m:\u001b[0m\u001b[0;34m\u001b[0m\u001b[0;34m\u001b[0m\u001b[0m\n\u001b[1;32m    321\u001b[0m             \u001b[0mself\u001b[0m\u001b[0;34m.\u001b[0m\u001b[0merror_handler\u001b[0m\u001b[0;34m.\u001b[0m\u001b[0mcheck_response\u001b[0m\u001b[0;34m(\u001b[0m\u001b[0mresponse\u001b[0m\u001b[0;34m)\u001b[0m\u001b[0;34m\u001b[0m\u001b[0;34m\u001b[0m\u001b[0m\n",
            "\u001b[0;32m/usr/local/lib/python3.6/dist-packages/selenium/webdriver/remote/remote_connection.py\u001b[0m in \u001b[0;36mexecute\u001b[0;34m(self, command, params)\u001b[0m\n\u001b[1;32m    372\u001b[0m         \u001b[0mdata\u001b[0m \u001b[0;34m=\u001b[0m \u001b[0mutils\u001b[0m\u001b[0;34m.\u001b[0m\u001b[0mdump_json\u001b[0m\u001b[0;34m(\u001b[0m\u001b[0mparams\u001b[0m\u001b[0;34m)\u001b[0m\u001b[0;34m\u001b[0m\u001b[0;34m\u001b[0m\u001b[0m\n\u001b[1;32m    373\u001b[0m         \u001b[0murl\u001b[0m \u001b[0;34m=\u001b[0m \u001b[0;34m'%s%s'\u001b[0m \u001b[0;34m%\u001b[0m \u001b[0;34m(\u001b[0m\u001b[0mself\u001b[0m\u001b[0;34m.\u001b[0m\u001b[0m_url\u001b[0m\u001b[0;34m,\u001b[0m \u001b[0mpath\u001b[0m\u001b[0;34m)\u001b[0m\u001b[0;34m\u001b[0m\u001b[0;34m\u001b[0m\u001b[0m\n\u001b[0;32m--> 374\u001b[0;31m         \u001b[0;32mreturn\u001b[0m \u001b[0mself\u001b[0m\u001b[0;34m.\u001b[0m\u001b[0m_request\u001b[0m\u001b[0;34m(\u001b[0m\u001b[0mcommand_info\u001b[0m\u001b[0;34m[\u001b[0m\u001b[0;36m0\u001b[0m\u001b[0;34m]\u001b[0m\u001b[0;34m,\u001b[0m \u001b[0murl\u001b[0m\u001b[0;34m,\u001b[0m \u001b[0mbody\u001b[0m\u001b[0;34m=\u001b[0m\u001b[0mdata\u001b[0m\u001b[0;34m)\u001b[0m\u001b[0;34m\u001b[0m\u001b[0;34m\u001b[0m\u001b[0m\n\u001b[0m\u001b[1;32m    375\u001b[0m \u001b[0;34m\u001b[0m\u001b[0m\n\u001b[1;32m    376\u001b[0m     \u001b[0;32mdef\u001b[0m \u001b[0m_request\u001b[0m\u001b[0;34m(\u001b[0m\u001b[0mself\u001b[0m\u001b[0;34m,\u001b[0m \u001b[0mmethod\u001b[0m\u001b[0;34m,\u001b[0m \u001b[0murl\u001b[0m\u001b[0;34m,\u001b[0m \u001b[0mbody\u001b[0m\u001b[0;34m=\u001b[0m\u001b[0;32mNone\u001b[0m\u001b[0;34m)\u001b[0m\u001b[0;34m:\u001b[0m\u001b[0;34m\u001b[0m\u001b[0;34m\u001b[0m\u001b[0m\n",
            "\u001b[0;32m/usr/local/lib/python3.6/dist-packages/selenium/webdriver/remote/remote_connection.py\u001b[0m in \u001b[0;36m_request\u001b[0;34m(self, method, url, body)\u001b[0m\n\u001b[1;32m    395\u001b[0m \u001b[0;34m\u001b[0m\u001b[0m\n\u001b[1;32m    396\u001b[0m         \u001b[0;32mif\u001b[0m \u001b[0mself\u001b[0m\u001b[0;34m.\u001b[0m\u001b[0mkeep_alive\u001b[0m\u001b[0;34m:\u001b[0m\u001b[0;34m\u001b[0m\u001b[0;34m\u001b[0m\u001b[0m\n\u001b[0;32m--> 397\u001b[0;31m             \u001b[0mresp\u001b[0m \u001b[0;34m=\u001b[0m \u001b[0mself\u001b[0m\u001b[0;34m.\u001b[0m\u001b[0m_conn\u001b[0m\u001b[0;34m.\u001b[0m\u001b[0mrequest\u001b[0m\u001b[0;34m(\u001b[0m\u001b[0mmethod\u001b[0m\u001b[0;34m,\u001b[0m \u001b[0murl\u001b[0m\u001b[0;34m,\u001b[0m \u001b[0mbody\u001b[0m\u001b[0;34m=\u001b[0m\u001b[0mbody\u001b[0m\u001b[0;34m,\u001b[0m \u001b[0mheaders\u001b[0m\u001b[0;34m=\u001b[0m\u001b[0mheaders\u001b[0m\u001b[0;34m)\u001b[0m\u001b[0;34m\u001b[0m\u001b[0;34m\u001b[0m\u001b[0m\n\u001b[0m\u001b[1;32m    398\u001b[0m \u001b[0;34m\u001b[0m\u001b[0m\n\u001b[1;32m    399\u001b[0m             \u001b[0mstatuscode\u001b[0m \u001b[0;34m=\u001b[0m \u001b[0mresp\u001b[0m\u001b[0;34m.\u001b[0m\u001b[0mstatus\u001b[0m\u001b[0;34m\u001b[0m\u001b[0;34m\u001b[0m\u001b[0m\n",
            "\u001b[0;32m/usr/local/lib/python3.6/dist-packages/urllib3/request.py\u001b[0m in \u001b[0;36mrequest\u001b[0;34m(self, method, url, fields, headers, **urlopen_kw)\u001b[0m\n\u001b[1;32m     70\u001b[0m             return self.request_encode_body(method, url, fields=fields,\n\u001b[1;32m     71\u001b[0m                                             \u001b[0mheaders\u001b[0m\u001b[0;34m=\u001b[0m\u001b[0mheaders\u001b[0m\u001b[0;34m,\u001b[0m\u001b[0;34m\u001b[0m\u001b[0;34m\u001b[0m\u001b[0m\n\u001b[0;32m---> 72\u001b[0;31m                                             **urlopen_kw)\n\u001b[0m\u001b[1;32m     73\u001b[0m \u001b[0;34m\u001b[0m\u001b[0m\n\u001b[1;32m     74\u001b[0m     def request_encode_url(self, method, url, fields=None, headers=None,\n",
            "\u001b[0;32m/usr/local/lib/python3.6/dist-packages/urllib3/request.py\u001b[0m in \u001b[0;36mrequest_encode_body\u001b[0;34m(self, method, url, fields, headers, encode_multipart, multipart_boundary, **urlopen_kw)\u001b[0m\n\u001b[1;32m    148\u001b[0m         \u001b[0mextra_kw\u001b[0m\u001b[0;34m.\u001b[0m\u001b[0mupdate\u001b[0m\u001b[0;34m(\u001b[0m\u001b[0murlopen_kw\u001b[0m\u001b[0;34m)\u001b[0m\u001b[0;34m\u001b[0m\u001b[0;34m\u001b[0m\u001b[0m\n\u001b[1;32m    149\u001b[0m \u001b[0;34m\u001b[0m\u001b[0m\n\u001b[0;32m--> 150\u001b[0;31m         \u001b[0;32mreturn\u001b[0m \u001b[0mself\u001b[0m\u001b[0;34m.\u001b[0m\u001b[0murlopen\u001b[0m\u001b[0;34m(\u001b[0m\u001b[0mmethod\u001b[0m\u001b[0;34m,\u001b[0m \u001b[0murl\u001b[0m\u001b[0;34m,\u001b[0m \u001b[0;34m**\u001b[0m\u001b[0mextra_kw\u001b[0m\u001b[0;34m)\u001b[0m\u001b[0;34m\u001b[0m\u001b[0;34m\u001b[0m\u001b[0m\n\u001b[0m",
            "\u001b[0;32m/usr/local/lib/python3.6/dist-packages/urllib3/poolmanager.py\u001b[0m in \u001b[0;36murlopen\u001b[0;34m(self, method, url, redirect, **kw)\u001b[0m\n\u001b[1;32m    322\u001b[0m             \u001b[0mresponse\u001b[0m \u001b[0;34m=\u001b[0m \u001b[0mconn\u001b[0m\u001b[0;34m.\u001b[0m\u001b[0murlopen\u001b[0m\u001b[0;34m(\u001b[0m\u001b[0mmethod\u001b[0m\u001b[0;34m,\u001b[0m \u001b[0murl\u001b[0m\u001b[0;34m,\u001b[0m \u001b[0;34m**\u001b[0m\u001b[0mkw\u001b[0m\u001b[0;34m)\u001b[0m\u001b[0;34m\u001b[0m\u001b[0;34m\u001b[0m\u001b[0m\n\u001b[1;32m    323\u001b[0m         \u001b[0;32melse\u001b[0m\u001b[0;34m:\u001b[0m\u001b[0;34m\u001b[0m\u001b[0;34m\u001b[0m\u001b[0m\n\u001b[0;32m--> 324\u001b[0;31m             \u001b[0mresponse\u001b[0m \u001b[0;34m=\u001b[0m \u001b[0mconn\u001b[0m\u001b[0;34m.\u001b[0m\u001b[0murlopen\u001b[0m\u001b[0;34m(\u001b[0m\u001b[0mmethod\u001b[0m\u001b[0;34m,\u001b[0m \u001b[0mu\u001b[0m\u001b[0;34m.\u001b[0m\u001b[0mrequest_uri\u001b[0m\u001b[0;34m,\u001b[0m \u001b[0;34m**\u001b[0m\u001b[0mkw\u001b[0m\u001b[0;34m)\u001b[0m\u001b[0;34m\u001b[0m\u001b[0;34m\u001b[0m\u001b[0m\n\u001b[0m\u001b[1;32m    325\u001b[0m \u001b[0;34m\u001b[0m\u001b[0m\n\u001b[1;32m    326\u001b[0m         \u001b[0mredirect_location\u001b[0m \u001b[0;34m=\u001b[0m \u001b[0mredirect\u001b[0m \u001b[0;32mand\u001b[0m \u001b[0mresponse\u001b[0m\u001b[0;34m.\u001b[0m\u001b[0mget_redirect_location\u001b[0m\u001b[0;34m(\u001b[0m\u001b[0;34m)\u001b[0m\u001b[0;34m\u001b[0m\u001b[0;34m\u001b[0m\u001b[0m\n",
            "\u001b[0;32m/usr/local/lib/python3.6/dist-packages/urllib3/connectionpool.py\u001b[0m in \u001b[0;36murlopen\u001b[0;34m(self, method, url, body, headers, retries, redirect, assert_same_host, timeout, pool_timeout, release_conn, chunked, body_pos, **response_kw)\u001b[0m\n\u001b[1;32m    598\u001b[0m                                                   \u001b[0mtimeout\u001b[0m\u001b[0;34m=\u001b[0m\u001b[0mtimeout_obj\u001b[0m\u001b[0;34m,\u001b[0m\u001b[0;34m\u001b[0m\u001b[0;34m\u001b[0m\u001b[0m\n\u001b[1;32m    599\u001b[0m                                                   \u001b[0mbody\u001b[0m\u001b[0;34m=\u001b[0m\u001b[0mbody\u001b[0m\u001b[0;34m,\u001b[0m \u001b[0mheaders\u001b[0m\u001b[0;34m=\u001b[0m\u001b[0mheaders\u001b[0m\u001b[0;34m,\u001b[0m\u001b[0;34m\u001b[0m\u001b[0;34m\u001b[0m\u001b[0m\n\u001b[0;32m--> 600\u001b[0;31m                                                   chunked=chunked)\n\u001b[0m\u001b[1;32m    601\u001b[0m \u001b[0;34m\u001b[0m\u001b[0m\n\u001b[1;32m    602\u001b[0m             \u001b[0;31m# If we're going to release the connection in ``finally:``, then\u001b[0m\u001b[0;34m\u001b[0m\u001b[0;34m\u001b[0m\u001b[0;34m\u001b[0m\u001b[0m\n",
            "\u001b[0;32m/usr/local/lib/python3.6/dist-packages/urllib3/connectionpool.py\u001b[0m in \u001b[0;36m_make_request\u001b[0;34m(self, conn, method, url, timeout, chunked, **httplib_request_kw)\u001b[0m\n\u001b[1;32m    378\u001b[0m             \u001b[0;32mexcept\u001b[0m \u001b[0mTypeError\u001b[0m\u001b[0;34m:\u001b[0m  \u001b[0;31m# Python 3\u001b[0m\u001b[0;34m\u001b[0m\u001b[0;34m\u001b[0m\u001b[0m\n\u001b[1;32m    379\u001b[0m                 \u001b[0;32mtry\u001b[0m\u001b[0;34m:\u001b[0m\u001b[0;34m\u001b[0m\u001b[0;34m\u001b[0m\u001b[0m\n\u001b[0;32m--> 380\u001b[0;31m                     \u001b[0mhttplib_response\u001b[0m \u001b[0;34m=\u001b[0m \u001b[0mconn\u001b[0m\u001b[0;34m.\u001b[0m\u001b[0mgetresponse\u001b[0m\u001b[0;34m(\u001b[0m\u001b[0;34m)\u001b[0m\u001b[0;34m\u001b[0m\u001b[0;34m\u001b[0m\u001b[0m\n\u001b[0m\u001b[1;32m    381\u001b[0m                 \u001b[0;32mexcept\u001b[0m \u001b[0mException\u001b[0m \u001b[0;32mas\u001b[0m \u001b[0me\u001b[0m\u001b[0;34m:\u001b[0m\u001b[0;34m\u001b[0m\u001b[0;34m\u001b[0m\u001b[0m\n\u001b[1;32m    382\u001b[0m                     \u001b[0;31m# Remove the TypeError from the exception chain in Python 3;\u001b[0m\u001b[0;34m\u001b[0m\u001b[0;34m\u001b[0m\u001b[0;34m\u001b[0m\u001b[0m\n",
            "\u001b[0;32m/usr/lib/python3.6/http/client.py\u001b[0m in \u001b[0;36mgetresponse\u001b[0;34m(self)\u001b[0m\n\u001b[1;32m   1354\u001b[0m         \u001b[0;32mtry\u001b[0m\u001b[0;34m:\u001b[0m\u001b[0;34m\u001b[0m\u001b[0;34m\u001b[0m\u001b[0m\n\u001b[1;32m   1355\u001b[0m             \u001b[0;32mtry\u001b[0m\u001b[0;34m:\u001b[0m\u001b[0;34m\u001b[0m\u001b[0;34m\u001b[0m\u001b[0m\n\u001b[0;32m-> 1356\u001b[0;31m                 \u001b[0mresponse\u001b[0m\u001b[0;34m.\u001b[0m\u001b[0mbegin\u001b[0m\u001b[0;34m(\u001b[0m\u001b[0;34m)\u001b[0m\u001b[0;34m\u001b[0m\u001b[0;34m\u001b[0m\u001b[0m\n\u001b[0m\u001b[1;32m   1357\u001b[0m             \u001b[0;32mexcept\u001b[0m \u001b[0mConnectionError\u001b[0m\u001b[0;34m:\u001b[0m\u001b[0;34m\u001b[0m\u001b[0;34m\u001b[0m\u001b[0m\n\u001b[1;32m   1358\u001b[0m                 \u001b[0mself\u001b[0m\u001b[0;34m.\u001b[0m\u001b[0mclose\u001b[0m\u001b[0;34m(\u001b[0m\u001b[0;34m)\u001b[0m\u001b[0;34m\u001b[0m\u001b[0;34m\u001b[0m\u001b[0m\n",
            "\u001b[0;32m/usr/lib/python3.6/http/client.py\u001b[0m in \u001b[0;36mbegin\u001b[0;34m(self)\u001b[0m\n\u001b[1;32m    305\u001b[0m         \u001b[0;31m# read until we get a non-100 response\u001b[0m\u001b[0;34m\u001b[0m\u001b[0;34m\u001b[0m\u001b[0;34m\u001b[0m\u001b[0m\n\u001b[1;32m    306\u001b[0m         \u001b[0;32mwhile\u001b[0m \u001b[0;32mTrue\u001b[0m\u001b[0;34m:\u001b[0m\u001b[0;34m\u001b[0m\u001b[0;34m\u001b[0m\u001b[0m\n\u001b[0;32m--> 307\u001b[0;31m             \u001b[0mversion\u001b[0m\u001b[0;34m,\u001b[0m \u001b[0mstatus\u001b[0m\u001b[0;34m,\u001b[0m \u001b[0mreason\u001b[0m \u001b[0;34m=\u001b[0m \u001b[0mself\u001b[0m\u001b[0;34m.\u001b[0m\u001b[0m_read_status\u001b[0m\u001b[0;34m(\u001b[0m\u001b[0;34m)\u001b[0m\u001b[0;34m\u001b[0m\u001b[0;34m\u001b[0m\u001b[0m\n\u001b[0m\u001b[1;32m    308\u001b[0m             \u001b[0;32mif\u001b[0m \u001b[0mstatus\u001b[0m \u001b[0;34m!=\u001b[0m \u001b[0mCONTINUE\u001b[0m\u001b[0;34m:\u001b[0m\u001b[0;34m\u001b[0m\u001b[0;34m\u001b[0m\u001b[0m\n\u001b[1;32m    309\u001b[0m                 \u001b[0;32mbreak\u001b[0m\u001b[0;34m\u001b[0m\u001b[0;34m\u001b[0m\u001b[0m\n",
            "\u001b[0;32m/usr/lib/python3.6/http/client.py\u001b[0m in \u001b[0;36m_read_status\u001b[0;34m(self)\u001b[0m\n\u001b[1;32m    266\u001b[0m \u001b[0;34m\u001b[0m\u001b[0m\n\u001b[1;32m    267\u001b[0m     \u001b[0;32mdef\u001b[0m \u001b[0m_read_status\u001b[0m\u001b[0;34m(\u001b[0m\u001b[0mself\u001b[0m\u001b[0;34m)\u001b[0m\u001b[0;34m:\u001b[0m\u001b[0;34m\u001b[0m\u001b[0;34m\u001b[0m\u001b[0m\n\u001b[0;32m--> 268\u001b[0;31m         \u001b[0mline\u001b[0m \u001b[0;34m=\u001b[0m \u001b[0mstr\u001b[0m\u001b[0;34m(\u001b[0m\u001b[0mself\u001b[0m\u001b[0;34m.\u001b[0m\u001b[0mfp\u001b[0m\u001b[0;34m.\u001b[0m\u001b[0mreadline\u001b[0m\u001b[0;34m(\u001b[0m\u001b[0m_MAXLINE\u001b[0m \u001b[0;34m+\u001b[0m \u001b[0;36m1\u001b[0m\u001b[0;34m)\u001b[0m\u001b[0;34m,\u001b[0m \u001b[0;34m\"iso-8859-1\"\u001b[0m\u001b[0;34m)\u001b[0m\u001b[0;34m\u001b[0m\u001b[0;34m\u001b[0m\u001b[0m\n\u001b[0m\u001b[1;32m    269\u001b[0m         \u001b[0;32mif\u001b[0m \u001b[0mlen\u001b[0m\u001b[0;34m(\u001b[0m\u001b[0mline\u001b[0m\u001b[0;34m)\u001b[0m \u001b[0;34m>\u001b[0m \u001b[0m_MAXLINE\u001b[0m\u001b[0;34m:\u001b[0m\u001b[0;34m\u001b[0m\u001b[0;34m\u001b[0m\u001b[0m\n\u001b[1;32m    270\u001b[0m             \u001b[0;32mraise\u001b[0m \u001b[0mLineTooLong\u001b[0m\u001b[0;34m(\u001b[0m\u001b[0;34m\"status line\"\u001b[0m\u001b[0;34m)\u001b[0m\u001b[0;34m\u001b[0m\u001b[0;34m\u001b[0m\u001b[0m\n",
            "\u001b[0;32m/usr/lib/python3.6/socket.py\u001b[0m in \u001b[0;36mreadinto\u001b[0;34m(self, b)\u001b[0m\n\u001b[1;32m    584\u001b[0m         \u001b[0;32mwhile\u001b[0m \u001b[0;32mTrue\u001b[0m\u001b[0;34m:\u001b[0m\u001b[0;34m\u001b[0m\u001b[0;34m\u001b[0m\u001b[0m\n\u001b[1;32m    585\u001b[0m             \u001b[0;32mtry\u001b[0m\u001b[0;34m:\u001b[0m\u001b[0;34m\u001b[0m\u001b[0;34m\u001b[0m\u001b[0m\n\u001b[0;32m--> 586\u001b[0;31m                 \u001b[0;32mreturn\u001b[0m \u001b[0mself\u001b[0m\u001b[0;34m.\u001b[0m\u001b[0m_sock\u001b[0m\u001b[0;34m.\u001b[0m\u001b[0mrecv_into\u001b[0m\u001b[0;34m(\u001b[0m\u001b[0mb\u001b[0m\u001b[0;34m)\u001b[0m\u001b[0;34m\u001b[0m\u001b[0;34m\u001b[0m\u001b[0m\n\u001b[0m\u001b[1;32m    587\u001b[0m             \u001b[0;32mexcept\u001b[0m \u001b[0mtimeout\u001b[0m\u001b[0;34m:\u001b[0m\u001b[0;34m\u001b[0m\u001b[0;34m\u001b[0m\u001b[0m\n\u001b[1;32m    588\u001b[0m                 \u001b[0mself\u001b[0m\u001b[0;34m.\u001b[0m\u001b[0m_timeout_occurred\u001b[0m \u001b[0;34m=\u001b[0m \u001b[0;32mTrue\u001b[0m\u001b[0;34m\u001b[0m\u001b[0;34m\u001b[0m\u001b[0m\n",
            "\u001b[0;31mKeyboardInterrupt\u001b[0m: "
          ]
        }
      ]
    },
    {
      "cell_type": "code",
      "metadata": {
        "id": "GFn2OgkIcrpa",
        "colab_type": "code",
        "colab": {
          "base_uri": "https://localhost:8080/",
          "height": 34
        },
        "outputId": "306a9447-6f1c-4a05-801c-2a0388b08d56"
      },
      "source": [
        "num_pagine_sito"
      ],
      "execution_count": 13,
      "outputs": [
        {
          "output_type": "execute_result",
          "data": {
            "text/plain": [
              "303"
            ]
          },
          "metadata": {
            "tags": []
          },
          "execution_count": 13
        }
      ]
    },
    {
      "cell_type": "code",
      "metadata": {
        "id": "0CDLP7W5cvLL",
        "colab_type": "code",
        "colab": {}
      },
      "source": [
        "lista_link_manga= []"
      ],
      "execution_count": 29,
      "outputs": []
    },
    {
      "cell_type": "code",
      "metadata": {
        "colab_type": "code",
        "id": "YAqqx6oAcsIv",
        "colab": {}
      },
      "source": [
        "lista_link_manga.append(\"https://www.j-pop.it/293-j-pop-manga\")"
      ],
      "execution_count": 30,
      "outputs": []
    },
    {
      "cell_type": "code",
      "metadata": {
        "id": "k0Pi_t9rbqi3",
        "colab_type": "code",
        "colab": {}
      },
      "source": [
        "for _ in range(2,num_pagine_sito):\n",
        "  lista_link_manga.append(f\"https://www.j-pop.it/293-j-pop-manga#//page-{_}\")"
      ],
      "execution_count": 31,
      "outputs": []
    },
    {
      "cell_type": "code",
      "metadata": {
        "id": "5IbaghzIl4RI",
        "colab_type": "code",
        "colab": {
          "base_uri": "https://localhost:8080/",
          "height": 1000
        },
        "outputId": "99a14e39-dfff-41f3-d940-c0fcb5a6f484"
      },
      "source": [
        "manga_titoli_list=[]\n",
        "for i in range(len(lista_link_manga)):\n",
        "  time.sleep(10)\n",
        "  print(lista_link_manga[i])\n",
        "  chrome_options=webdriver.ChromeOptions()\n",
        "  chrome_options.add_argument('--headless')\n",
        "  chrome_options.add_argument('--no-sandbox')\n",
        "  chrome_options.add_argument('--disable-dev-shm-usage')\n",
        "  wd = webdriver.Chrome('chromedriver',options=chrome_options)\n",
        "  wd.set_window_size(1900, 1200)\n",
        "  wd.maximize_window()\n",
        "  wd.get(lista_link_manga[i])\n",
        "  elems = wd.find_elements_by_xpath(\"//*[@id=\\\"grid_view_product\\\"]/li/div/div/div/div[2]/a\")\n",
        "  try:\n",
        "    for elem in elems:\n",
        "      manga_titoli_list.append(elem.get_attribute(\"href\"))\n",
        "  except Exception as e :\n",
        "    print(e)\n",
        "    continue\n",
        "  wd.close()"
      ],
      "execution_count": 68,
      "outputs": [
        {
          "output_type": "stream",
          "text": [
            "https://www.j-pop.it/293-j-pop-manga\n",
            "https://www.j-pop.it/293-j-pop-manga#//page-2\n",
            "https://www.j-pop.it/293-j-pop-manga#//page-3\n",
            "https://www.j-pop.it/293-j-pop-manga#//page-4\n",
            "https://www.j-pop.it/293-j-pop-manga#//page-5\n",
            "https://www.j-pop.it/293-j-pop-manga#//page-6\n",
            "https://www.j-pop.it/293-j-pop-manga#//page-7\n",
            "https://www.j-pop.it/293-j-pop-manga#//page-8\n",
            "Message: stale element reference: element is not attached to the page document\n",
            "  (Session info: headless chrome=83.0.4103.61)\n",
            "\n",
            "https://www.j-pop.it/293-j-pop-manga#//page-9\n",
            "https://www.j-pop.it/293-j-pop-manga#//page-10\n",
            "https://www.j-pop.it/293-j-pop-manga#//page-11\n",
            "https://www.j-pop.it/293-j-pop-manga#//page-12\n",
            "Message: stale element reference: element is not attached to the page document\n",
            "  (Session info: headless chrome=83.0.4103.61)\n",
            "\n",
            "https://www.j-pop.it/293-j-pop-manga#//page-13\n",
            "Message: stale element reference: element is not attached to the page document\n",
            "  (Session info: headless chrome=83.0.4103.61)\n",
            "\n",
            "https://www.j-pop.it/293-j-pop-manga#//page-14\n",
            "https://www.j-pop.it/293-j-pop-manga#//page-15\n",
            "https://www.j-pop.it/293-j-pop-manga#//page-16\n",
            "https://www.j-pop.it/293-j-pop-manga#//page-17\n",
            "Message: stale element reference: element is not attached to the page document\n",
            "  (Session info: headless chrome=83.0.4103.61)\n",
            "\n",
            "https://www.j-pop.it/293-j-pop-manga#//page-18\n",
            "https://www.j-pop.it/293-j-pop-manga#//page-19\n",
            "Message: stale element reference: element is not attached to the page document\n",
            "  (Session info: headless chrome=83.0.4103.61)\n",
            "\n",
            "https://www.j-pop.it/293-j-pop-manga#//page-20\n",
            "https://www.j-pop.it/293-j-pop-manga#//page-21\n",
            "https://www.j-pop.it/293-j-pop-manga#//page-22\n",
            "https://www.j-pop.it/293-j-pop-manga#//page-23\n",
            "Message: stale element reference: element is not attached to the page document\n",
            "  (Session info: headless chrome=83.0.4103.61)\n",
            "\n",
            "https://www.j-pop.it/293-j-pop-manga#//page-24\n",
            "https://www.j-pop.it/293-j-pop-manga#//page-25\n",
            "https://www.j-pop.it/293-j-pop-manga#//page-26\n",
            "https://www.j-pop.it/293-j-pop-manga#//page-27\n",
            "https://www.j-pop.it/293-j-pop-manga#//page-28\n",
            "Message: stale element reference: element is not attached to the page document\n",
            "  (Session info: headless chrome=83.0.4103.61)\n",
            "\n",
            "https://www.j-pop.it/293-j-pop-manga#//page-29\n",
            "https://www.j-pop.it/293-j-pop-manga#//page-30\n",
            "https://www.j-pop.it/293-j-pop-manga#//page-31\n",
            "https://www.j-pop.it/293-j-pop-manga#//page-32\n",
            "Message: stale element reference: element is not attached to the page document\n",
            "  (Session info: headless chrome=83.0.4103.61)\n",
            "\n",
            "https://www.j-pop.it/293-j-pop-manga#//page-33\n",
            "https://www.j-pop.it/293-j-pop-manga#//page-34\n",
            "https://www.j-pop.it/293-j-pop-manga#//page-35\n",
            "https://www.j-pop.it/293-j-pop-manga#//page-36\n",
            "https://www.j-pop.it/293-j-pop-manga#//page-37\n",
            "Message: stale element reference: element is not attached to the page document\n",
            "  (Session info: headless chrome=83.0.4103.61)\n",
            "\n",
            "https://www.j-pop.it/293-j-pop-manga#//page-38\n",
            "https://www.j-pop.it/293-j-pop-manga#//page-39\n",
            "https://www.j-pop.it/293-j-pop-manga#//page-40\n",
            "https://www.j-pop.it/293-j-pop-manga#//page-41\n",
            "https://www.j-pop.it/293-j-pop-manga#//page-42\n",
            "https://www.j-pop.it/293-j-pop-manga#//page-43\n",
            "Message: stale element reference: element is not attached to the page document\n",
            "  (Session info: headless chrome=83.0.4103.61)\n",
            "\n",
            "https://www.j-pop.it/293-j-pop-manga#//page-44\n",
            "https://www.j-pop.it/293-j-pop-manga#//page-45\n",
            "https://www.j-pop.it/293-j-pop-manga#//page-46\n",
            "Message: stale element reference: element is not attached to the page document\n",
            "  (Session info: headless chrome=83.0.4103.61)\n",
            "\n",
            "https://www.j-pop.it/293-j-pop-manga#//page-47\n",
            "Message: stale element reference: element is not attached to the page document\n",
            "  (Session info: headless chrome=83.0.4103.61)\n",
            "\n",
            "https://www.j-pop.it/293-j-pop-manga#//page-48\n",
            "https://www.j-pop.it/293-j-pop-manga#//page-49\n",
            "Message: stale element reference: element is not attached to the page document\n",
            "  (Session info: headless chrome=83.0.4103.61)\n",
            "\n",
            "https://www.j-pop.it/293-j-pop-manga#//page-50\n",
            "https://www.j-pop.it/293-j-pop-manga#//page-51\n",
            "Message: stale element reference: element is not attached to the page document\n",
            "  (Session info: headless chrome=83.0.4103.61)\n",
            "\n",
            "https://www.j-pop.it/293-j-pop-manga#//page-52\n",
            "Message: stale element reference: element is not attached to the page document\n",
            "  (Session info: headless chrome=83.0.4103.61)\n",
            "\n",
            "https://www.j-pop.it/293-j-pop-manga#//page-53\n",
            "Message: stale element reference: element is not attached to the page document\n",
            "  (Session info: headless chrome=83.0.4103.61)\n",
            "\n",
            "https://www.j-pop.it/293-j-pop-manga#//page-54\n",
            "https://www.j-pop.it/293-j-pop-manga#//page-55\n",
            "https://www.j-pop.it/293-j-pop-manga#//page-56\n",
            "https://www.j-pop.it/293-j-pop-manga#//page-57\n",
            "https://www.j-pop.it/293-j-pop-manga#//page-58\n",
            "https://www.j-pop.it/293-j-pop-manga#//page-59\n",
            "https://www.j-pop.it/293-j-pop-manga#//page-60\n",
            "https://www.j-pop.it/293-j-pop-manga#//page-61\n",
            "https://www.j-pop.it/293-j-pop-manga#//page-62\n",
            "Message: stale element reference: element is not attached to the page document\n",
            "  (Session info: headless chrome=83.0.4103.61)\n",
            "\n",
            "https://www.j-pop.it/293-j-pop-manga#//page-63\n",
            "https://www.j-pop.it/293-j-pop-manga#//page-64\n",
            "https://www.j-pop.it/293-j-pop-manga#//page-65\n",
            "https://www.j-pop.it/293-j-pop-manga#//page-66\n",
            "https://www.j-pop.it/293-j-pop-manga#//page-67\n",
            "Message: stale element reference: element is not attached to the page document\n",
            "  (Session info: headless chrome=83.0.4103.61)\n",
            "\n",
            "https://www.j-pop.it/293-j-pop-manga#//page-68\n",
            "https://www.j-pop.it/293-j-pop-manga#//page-69\n",
            "Message: stale element reference: element is not attached to the page document\n",
            "  (Session info: headless chrome=83.0.4103.61)\n",
            "\n",
            "https://www.j-pop.it/293-j-pop-manga#//page-70\n",
            "https://www.j-pop.it/293-j-pop-manga#//page-71\n",
            "https://www.j-pop.it/293-j-pop-manga#//page-72\n",
            "https://www.j-pop.it/293-j-pop-manga#//page-73\n",
            "Message: stale element reference: element is not attached to the page document\n",
            "  (Session info: headless chrome=83.0.4103.61)\n",
            "\n",
            "https://www.j-pop.it/293-j-pop-manga#//page-74\n",
            "https://www.j-pop.it/293-j-pop-manga#//page-75\n",
            "Message: stale element reference: element is not attached to the page document\n",
            "  (Session info: headless chrome=83.0.4103.61)\n",
            "\n",
            "https://www.j-pop.it/293-j-pop-manga#//page-76\n",
            "https://www.j-pop.it/293-j-pop-manga#//page-77\n",
            "https://www.j-pop.it/293-j-pop-manga#//page-78\n",
            "https://www.j-pop.it/293-j-pop-manga#//page-79\n",
            "Message: stale element reference: element is not attached to the page document\n",
            "  (Session info: headless chrome=83.0.4103.61)\n",
            "\n",
            "https://www.j-pop.it/293-j-pop-manga#//page-80\n",
            "Message: stale element reference: element is not attached to the page document\n",
            "  (Session info: headless chrome=83.0.4103.61)\n",
            "\n",
            "https://www.j-pop.it/293-j-pop-manga#//page-81\n",
            "https://www.j-pop.it/293-j-pop-manga#//page-82\n",
            "https://www.j-pop.it/293-j-pop-manga#//page-83\n",
            "https://www.j-pop.it/293-j-pop-manga#//page-84\n",
            "https://www.j-pop.it/293-j-pop-manga#//page-85\n",
            "https://www.j-pop.it/293-j-pop-manga#//page-86\n",
            "Message: stale element reference: element is not attached to the page document\n",
            "  (Session info: headless chrome=83.0.4103.61)\n",
            "\n",
            "https://www.j-pop.it/293-j-pop-manga#//page-87\n",
            "https://www.j-pop.it/293-j-pop-manga#//page-88\n",
            "https://www.j-pop.it/293-j-pop-manga#//page-89\n",
            "https://www.j-pop.it/293-j-pop-manga#//page-90\n",
            "https://www.j-pop.it/293-j-pop-manga#//page-91\n",
            "https://www.j-pop.it/293-j-pop-manga#//page-92\n",
            "https://www.j-pop.it/293-j-pop-manga#//page-93\n",
            "https://www.j-pop.it/293-j-pop-manga#//page-94\n",
            "https://www.j-pop.it/293-j-pop-manga#//page-95\n",
            "Message: stale element reference: element is not attached to the page document\n",
            "  (Session info: headless chrome=83.0.4103.61)\n",
            "\n",
            "https://www.j-pop.it/293-j-pop-manga#//page-96\n",
            "https://www.j-pop.it/293-j-pop-manga#//page-97\n",
            "https://www.j-pop.it/293-j-pop-manga#//page-98\n",
            "https://www.j-pop.it/293-j-pop-manga#//page-99\n",
            "Message: stale element reference: element is not attached to the page document\n",
            "  (Session info: headless chrome=83.0.4103.61)\n",
            "\n",
            "https://www.j-pop.it/293-j-pop-manga#//page-100\n",
            "https://www.j-pop.it/293-j-pop-manga#//page-101\n",
            "https://www.j-pop.it/293-j-pop-manga#//page-102\n",
            "https://www.j-pop.it/293-j-pop-manga#//page-103\n",
            "Message: stale element reference: element is not attached to the page document\n",
            "  (Session info: headless chrome=83.0.4103.61)\n",
            "\n",
            "https://www.j-pop.it/293-j-pop-manga#//page-104\n",
            "https://www.j-pop.it/293-j-pop-manga#//page-105\n",
            "Message: stale element reference: element is not attached to the page document\n",
            "  (Session info: headless chrome=83.0.4103.61)\n",
            "\n",
            "https://www.j-pop.it/293-j-pop-manga#//page-106\n",
            "Message: stale element reference: element is not attached to the page document\n",
            "  (Session info: headless chrome=83.0.4103.61)\n",
            "\n",
            "https://www.j-pop.it/293-j-pop-manga#//page-107\n",
            "Message: stale element reference: element is not attached to the page document\n",
            "  (Session info: headless chrome=83.0.4103.61)\n",
            "\n",
            "https://www.j-pop.it/293-j-pop-manga#//page-108\n",
            "https://www.j-pop.it/293-j-pop-manga#//page-109\n",
            "https://www.j-pop.it/293-j-pop-manga#//page-110\n",
            "https://www.j-pop.it/293-j-pop-manga#//page-111\n",
            "https://www.j-pop.it/293-j-pop-manga#//page-112\n",
            "Message: stale element reference: element is not attached to the page document\n",
            "  (Session info: headless chrome=83.0.4103.61)\n",
            "\n",
            "https://www.j-pop.it/293-j-pop-manga#//page-113\n",
            "https://www.j-pop.it/293-j-pop-manga#//page-114\n",
            "https://www.j-pop.it/293-j-pop-manga#//page-115\n",
            "https://www.j-pop.it/293-j-pop-manga#//page-116\n",
            "https://www.j-pop.it/293-j-pop-manga#//page-117\n",
            "Message: stale element reference: element is not attached to the page document\n",
            "  (Session info: headless chrome=83.0.4103.61)\n",
            "\n",
            "https://www.j-pop.it/293-j-pop-manga#//page-118\n",
            "https://www.j-pop.it/293-j-pop-manga#//page-119\n",
            "https://www.j-pop.it/293-j-pop-manga#//page-120\n",
            "Message: stale element reference: element is not attached to the page document\n",
            "  (Session info: headless chrome=83.0.4103.61)\n",
            "\n",
            "https://www.j-pop.it/293-j-pop-manga#//page-121\n",
            "https://www.j-pop.it/293-j-pop-manga#//page-122\n",
            "Message: stale element reference: element is not attached to the page document\n",
            "  (Session info: headless chrome=83.0.4103.61)\n",
            "\n",
            "https://www.j-pop.it/293-j-pop-manga#//page-123\n",
            "Message: stale element reference: element is not attached to the page document\n",
            "  (Session info: headless chrome=83.0.4103.61)\n",
            "\n",
            "https://www.j-pop.it/293-j-pop-manga#//page-124\n",
            "https://www.j-pop.it/293-j-pop-manga#//page-125\n",
            "https://www.j-pop.it/293-j-pop-manga#//page-126\n",
            "Message: stale element reference: element is not attached to the page document\n",
            "  (Session info: headless chrome=83.0.4103.61)\n",
            "\n",
            "https://www.j-pop.it/293-j-pop-manga#//page-127\n",
            "https://www.j-pop.it/293-j-pop-manga#//page-128\n",
            "Message: stale element reference: element is not attached to the page document\n",
            "  (Session info: headless chrome=83.0.4103.61)\n",
            "\n",
            "https://www.j-pop.it/293-j-pop-manga#//page-129\n",
            "https://www.j-pop.it/293-j-pop-manga#//page-130\n",
            "Message: stale element reference: element is not attached to the page document\n",
            "  (Session info: headless chrome=83.0.4103.61)\n",
            "\n",
            "https://www.j-pop.it/293-j-pop-manga#//page-131\n",
            "https://www.j-pop.it/293-j-pop-manga#//page-132\n",
            "https://www.j-pop.it/293-j-pop-manga#//page-133\n",
            "https://www.j-pop.it/293-j-pop-manga#//page-134\n",
            "https://www.j-pop.it/293-j-pop-manga#//page-135\n",
            "https://www.j-pop.it/293-j-pop-manga#//page-136\n",
            "https://www.j-pop.it/293-j-pop-manga#//page-137\n",
            "Message: stale element reference: element is not attached to the page document\n",
            "  (Session info: headless chrome=83.0.4103.61)\n",
            "\n",
            "https://www.j-pop.it/293-j-pop-manga#//page-138\n",
            "https://www.j-pop.it/293-j-pop-manga#//page-139\n",
            "Message: stale element reference: element is not attached to the page document\n",
            "  (Session info: headless chrome=83.0.4103.61)\n",
            "\n",
            "https://www.j-pop.it/293-j-pop-manga#//page-140\n",
            "https://www.j-pop.it/293-j-pop-manga#//page-141\n",
            "https://www.j-pop.it/293-j-pop-manga#//page-142\n",
            "https://www.j-pop.it/293-j-pop-manga#//page-143\n",
            "https://www.j-pop.it/293-j-pop-manga#//page-144\n",
            "https://www.j-pop.it/293-j-pop-manga#//page-145\n",
            "https://www.j-pop.it/293-j-pop-manga#//page-146\n",
            "https://www.j-pop.it/293-j-pop-manga#//page-147\n",
            "https://www.j-pop.it/293-j-pop-manga#//page-148\n",
            "https://www.j-pop.it/293-j-pop-manga#//page-149\n",
            "https://www.j-pop.it/293-j-pop-manga#//page-150\n",
            "https://www.j-pop.it/293-j-pop-manga#//page-151\n",
            "https://www.j-pop.it/293-j-pop-manga#//page-152\n",
            "https://www.j-pop.it/293-j-pop-manga#//page-153\n",
            "Message: stale element reference: element is not attached to the page document\n",
            "  (Session info: headless chrome=83.0.4103.61)\n",
            "\n",
            "https://www.j-pop.it/293-j-pop-manga#//page-154\n",
            "https://www.j-pop.it/293-j-pop-manga#//page-155\n",
            "Message: stale element reference: element is not attached to the page document\n",
            "  (Session info: headless chrome=83.0.4103.61)\n",
            "\n",
            "https://www.j-pop.it/293-j-pop-manga#//page-156\n",
            "https://www.j-pop.it/293-j-pop-manga#//page-157\n",
            "https://www.j-pop.it/293-j-pop-manga#//page-158\n",
            "https://www.j-pop.it/293-j-pop-manga#//page-159\n",
            "https://www.j-pop.it/293-j-pop-manga#//page-160\n",
            "https://www.j-pop.it/293-j-pop-manga#//page-161\n",
            "Message: stale element reference: element is not attached to the page document\n",
            "  (Session info: headless chrome=83.0.4103.61)\n",
            "\n",
            "https://www.j-pop.it/293-j-pop-manga#//page-162\n",
            "https://www.j-pop.it/293-j-pop-manga#//page-163\n",
            "https://www.j-pop.it/293-j-pop-manga#//page-164\n",
            "Message: stale element reference: element is not attached to the page document\n",
            "  (Session info: headless chrome=83.0.4103.61)\n",
            "\n",
            "https://www.j-pop.it/293-j-pop-manga#//page-165\n",
            "https://www.j-pop.it/293-j-pop-manga#//page-166\n",
            "https://www.j-pop.it/293-j-pop-manga#//page-167\n",
            "Message: stale element reference: element is not attached to the page document\n",
            "  (Session info: headless chrome=83.0.4103.61)\n",
            "\n",
            "https://www.j-pop.it/293-j-pop-manga#//page-168\n",
            "https://www.j-pop.it/293-j-pop-manga#//page-169\n",
            "Message: stale element reference: element is not attached to the page document\n",
            "  (Session info: headless chrome=83.0.4103.61)\n",
            "\n",
            "https://www.j-pop.it/293-j-pop-manga#//page-170\n",
            "Message: stale element reference: element is not attached to the page document\n",
            "  (Session info: headless chrome=83.0.4103.61)\n",
            "\n",
            "https://www.j-pop.it/293-j-pop-manga#//page-171\n",
            "https://www.j-pop.it/293-j-pop-manga#//page-172\n",
            "https://www.j-pop.it/293-j-pop-manga#//page-173\n",
            "https://www.j-pop.it/293-j-pop-manga#//page-174\n",
            "https://www.j-pop.it/293-j-pop-manga#//page-175\n",
            "https://www.j-pop.it/293-j-pop-manga#//page-176\n",
            "Message: stale element reference: element is not attached to the page document\n",
            "  (Session info: headless chrome=83.0.4103.61)\n",
            "\n",
            "https://www.j-pop.it/293-j-pop-manga#//page-177\n",
            "https://www.j-pop.it/293-j-pop-manga#//page-178\n",
            "https://www.j-pop.it/293-j-pop-manga#//page-179\n",
            "https://www.j-pop.it/293-j-pop-manga#//page-180\n",
            "Message: stale element reference: element is not attached to the page document\n",
            "  (Session info: headless chrome=83.0.4103.61)\n",
            "\n",
            "https://www.j-pop.it/293-j-pop-manga#//page-181\n",
            "https://www.j-pop.it/293-j-pop-manga#//page-182\n",
            "Message: stale element reference: element is not attached to the page document\n",
            "  (Session info: headless chrome=83.0.4103.61)\n",
            "\n",
            "https://www.j-pop.it/293-j-pop-manga#//page-183\n",
            "https://www.j-pop.it/293-j-pop-manga#//page-184\n",
            "Message: stale element reference: element is not attached to the page document\n",
            "  (Session info: headless chrome=83.0.4103.61)\n",
            "\n",
            "https://www.j-pop.it/293-j-pop-manga#//page-185\n",
            "https://www.j-pop.it/293-j-pop-manga#//page-186\n",
            "https://www.j-pop.it/293-j-pop-manga#//page-187\n",
            "Message: stale element reference: element is not attached to the page document\n",
            "  (Session info: headless chrome=83.0.4103.61)\n",
            "\n",
            "https://www.j-pop.it/293-j-pop-manga#//page-188\n",
            "https://www.j-pop.it/293-j-pop-manga#//page-189\n",
            "Message: stale element reference: element is not attached to the page document\n",
            "  (Session info: headless chrome=83.0.4103.61)\n",
            "\n",
            "https://www.j-pop.it/293-j-pop-manga#//page-190\n",
            "https://www.j-pop.it/293-j-pop-manga#//page-191\n",
            "https://www.j-pop.it/293-j-pop-manga#//page-192\n",
            "https://www.j-pop.it/293-j-pop-manga#//page-193\n",
            "https://www.j-pop.it/293-j-pop-manga#//page-194\n",
            "https://www.j-pop.it/293-j-pop-manga#//page-195\n",
            "https://www.j-pop.it/293-j-pop-manga#//page-196\n",
            "https://www.j-pop.it/293-j-pop-manga#//page-197\n",
            "https://www.j-pop.it/293-j-pop-manga#//page-198\n",
            "https://www.j-pop.it/293-j-pop-manga#//page-199\n",
            "Message: stale element reference: element is not attached to the page document\n",
            "  (Session info: headless chrome=83.0.4103.61)\n",
            "\n",
            "https://www.j-pop.it/293-j-pop-manga#//page-200\n",
            "https://www.j-pop.it/293-j-pop-manga#//page-201\n",
            "Message: stale element reference: element is not attached to the page document\n",
            "  (Session info: headless chrome=83.0.4103.61)\n",
            "\n",
            "https://www.j-pop.it/293-j-pop-manga#//page-202\n",
            "https://www.j-pop.it/293-j-pop-manga#//page-203\n",
            "https://www.j-pop.it/293-j-pop-manga#//page-204\n",
            "https://www.j-pop.it/293-j-pop-manga#//page-205\n",
            "https://www.j-pop.it/293-j-pop-manga#//page-206\n",
            "https://www.j-pop.it/293-j-pop-manga#//page-207\n",
            "Message: stale element reference: element is not attached to the page document\n",
            "  (Session info: headless chrome=83.0.4103.61)\n",
            "\n",
            "https://www.j-pop.it/293-j-pop-manga#//page-208\n",
            "Message: stale element reference: element is not attached to the page document\n",
            "  (Session info: headless chrome=83.0.4103.61)\n",
            "\n",
            "https://www.j-pop.it/293-j-pop-manga#//page-209\n",
            "https://www.j-pop.it/293-j-pop-manga#//page-210\n",
            "https://www.j-pop.it/293-j-pop-manga#//page-211\n",
            "https://www.j-pop.it/293-j-pop-manga#//page-212\n",
            "https://www.j-pop.it/293-j-pop-manga#//page-213\n",
            "https://www.j-pop.it/293-j-pop-manga#//page-214\n",
            "https://www.j-pop.it/293-j-pop-manga#//page-215\n",
            "https://www.j-pop.it/293-j-pop-manga#//page-216\n",
            "Message: stale element reference: element is not attached to the page document\n",
            "  (Session info: headless chrome=83.0.4103.61)\n",
            "\n",
            "https://www.j-pop.it/293-j-pop-manga#//page-217\n",
            "https://www.j-pop.it/293-j-pop-manga#//page-218\n",
            "https://www.j-pop.it/293-j-pop-manga#//page-219\n",
            "https://www.j-pop.it/293-j-pop-manga#//page-220\n",
            "Message: stale element reference: element is not attached to the page document\n",
            "  (Session info: headless chrome=83.0.4103.61)\n",
            "\n",
            "https://www.j-pop.it/293-j-pop-manga#//page-221\n",
            "https://www.j-pop.it/293-j-pop-manga#//page-222\n",
            "Message: stale element reference: element is not attached to the page document\n",
            "  (Session info: headless chrome=83.0.4103.61)\n",
            "\n",
            "https://www.j-pop.it/293-j-pop-manga#//page-223\n",
            "https://www.j-pop.it/293-j-pop-manga#//page-224\n",
            "Message: stale element reference: element is not attached to the page document\n",
            "  (Session info: headless chrome=83.0.4103.61)\n",
            "\n",
            "https://www.j-pop.it/293-j-pop-manga#//page-225\n",
            "https://www.j-pop.it/293-j-pop-manga#//page-226\n",
            "https://www.j-pop.it/293-j-pop-manga#//page-227\n",
            "https://www.j-pop.it/293-j-pop-manga#//page-228\n",
            "Message: stale element reference: element is not attached to the page document\n",
            "  (Session info: headless chrome=83.0.4103.61)\n",
            "\n",
            "https://www.j-pop.it/293-j-pop-manga#//page-229\n",
            "https://www.j-pop.it/293-j-pop-manga#//page-230\n",
            "https://www.j-pop.it/293-j-pop-manga#//page-231\n",
            "https://www.j-pop.it/293-j-pop-manga#//page-232\n",
            "Message: stale element reference: element is not attached to the page document\n",
            "  (Session info: headless chrome=83.0.4103.61)\n",
            "\n",
            "https://www.j-pop.it/293-j-pop-manga#//page-233\n",
            "https://www.j-pop.it/293-j-pop-manga#//page-234\n",
            "Message: stale element reference: element is not attached to the page document\n",
            "  (Session info: headless chrome=83.0.4103.61)\n",
            "\n",
            "https://www.j-pop.it/293-j-pop-manga#//page-235\n",
            "https://www.j-pop.it/293-j-pop-manga#//page-236\n",
            "https://www.j-pop.it/293-j-pop-manga#//page-237\n",
            "https://www.j-pop.it/293-j-pop-manga#//page-238\n",
            "https://www.j-pop.it/293-j-pop-manga#//page-239\n",
            "https://www.j-pop.it/293-j-pop-manga#//page-240\n",
            "Message: stale element reference: element is not attached to the page document\n",
            "  (Session info: headless chrome=83.0.4103.61)\n",
            "\n",
            "https://www.j-pop.it/293-j-pop-manga#//page-241\n",
            "https://www.j-pop.it/293-j-pop-manga#//page-242\n",
            "https://www.j-pop.it/293-j-pop-manga#//page-243\n",
            "https://www.j-pop.it/293-j-pop-manga#//page-244\n",
            "https://www.j-pop.it/293-j-pop-manga#//page-245\n",
            "https://www.j-pop.it/293-j-pop-manga#//page-246\n",
            "https://www.j-pop.it/293-j-pop-manga#//page-247\n",
            "https://www.j-pop.it/293-j-pop-manga#//page-248\n",
            "Message: stale element reference: element is not attached to the page document\n",
            "  (Session info: headless chrome=83.0.4103.61)\n",
            "\n",
            "https://www.j-pop.it/293-j-pop-manga#//page-249\n",
            "https://www.j-pop.it/293-j-pop-manga#//page-250\n",
            "https://www.j-pop.it/293-j-pop-manga#//page-251\n",
            "Message: stale element reference: element is not attached to the page document\n",
            "  (Session info: headless chrome=83.0.4103.61)\n",
            "\n",
            "https://www.j-pop.it/293-j-pop-manga#//page-252\n",
            "https://www.j-pop.it/293-j-pop-manga#//page-253\n",
            "https://www.j-pop.it/293-j-pop-manga#//page-254\n",
            "Message: stale element reference: element is not attached to the page document\n",
            "  (Session info: headless chrome=83.0.4103.61)\n",
            "\n",
            "https://www.j-pop.it/293-j-pop-manga#//page-255\n",
            "https://www.j-pop.it/293-j-pop-manga#//page-256\n",
            "https://www.j-pop.it/293-j-pop-manga#//page-257\n",
            "https://www.j-pop.it/293-j-pop-manga#//page-258\n",
            "https://www.j-pop.it/293-j-pop-manga#//page-259\n",
            "https://www.j-pop.it/293-j-pop-manga#//page-260\n",
            "https://www.j-pop.it/293-j-pop-manga#//page-261\n",
            "Message: stale element reference: element is not attached to the page document\n",
            "  (Session info: headless chrome=83.0.4103.61)\n",
            "\n",
            "https://www.j-pop.it/293-j-pop-manga#//page-262\n",
            "Message: stale element reference: element is not attached to the page document\n",
            "  (Session info: headless chrome=83.0.4103.61)\n",
            "\n",
            "https://www.j-pop.it/293-j-pop-manga#//page-263\n",
            "https://www.j-pop.it/293-j-pop-manga#//page-264\n",
            "https://www.j-pop.it/293-j-pop-manga#//page-265\n",
            "https://www.j-pop.it/293-j-pop-manga#//page-266\n",
            "https://www.j-pop.it/293-j-pop-manga#//page-267\n",
            "https://www.j-pop.it/293-j-pop-manga#//page-268\n",
            "Message: stale element reference: element is not attached to the page document\n",
            "  (Session info: headless chrome=83.0.4103.61)\n",
            "\n",
            "https://www.j-pop.it/293-j-pop-manga#//page-269\n",
            "Message: stale element reference: element is not attached to the page document\n",
            "  (Session info: headless chrome=83.0.4103.61)\n",
            "\n",
            "https://www.j-pop.it/293-j-pop-manga#//page-270\n",
            "https://www.j-pop.it/293-j-pop-manga#//page-271\n",
            "Message: stale element reference: element is not attached to the page document\n",
            "  (Session info: headless chrome=83.0.4103.61)\n",
            "\n",
            "https://www.j-pop.it/293-j-pop-manga#//page-272\n",
            "Message: stale element reference: element is not attached to the page document\n",
            "  (Session info: headless chrome=83.0.4103.61)\n",
            "\n",
            "https://www.j-pop.it/293-j-pop-manga#//page-273\n",
            "https://www.j-pop.it/293-j-pop-manga#//page-274\n",
            "https://www.j-pop.it/293-j-pop-manga#//page-275\n",
            "https://www.j-pop.it/293-j-pop-manga#//page-276\n",
            "https://www.j-pop.it/293-j-pop-manga#//page-277\n",
            "https://www.j-pop.it/293-j-pop-manga#//page-278\n",
            "Message: stale element reference: element is not attached to the page document\n",
            "  (Session info: headless chrome=83.0.4103.61)\n",
            "\n",
            "https://www.j-pop.it/293-j-pop-manga#//page-279\n",
            "Message: stale element reference: element is not attached to the page document\n",
            "  (Session info: headless chrome=83.0.4103.61)\n",
            "\n",
            "https://www.j-pop.it/293-j-pop-manga#//page-280\n",
            "https://www.j-pop.it/293-j-pop-manga#//page-281\n",
            "Message: stale element reference: element is not attached to the page document\n",
            "  (Session info: headless chrome=83.0.4103.61)\n",
            "\n",
            "https://www.j-pop.it/293-j-pop-manga#//page-282\n",
            "Message: stale element reference: element is not attached to the page document\n",
            "  (Session info: headless chrome=83.0.4103.61)\n",
            "\n",
            "https://www.j-pop.it/293-j-pop-manga#//page-283\n",
            "https://www.j-pop.it/293-j-pop-manga#//page-284\n",
            "https://www.j-pop.it/293-j-pop-manga#//page-285\n",
            "Message: stale element reference: element is not attached to the page document\n",
            "  (Session info: headless chrome=83.0.4103.61)\n",
            "\n",
            "https://www.j-pop.it/293-j-pop-manga#//page-286\n",
            "Message: stale element reference: element is not attached to the page document\n",
            "  (Session info: headless chrome=83.0.4103.61)\n",
            "\n",
            "https://www.j-pop.it/293-j-pop-manga#//page-287\n",
            "https://www.j-pop.it/293-j-pop-manga#//page-288\n",
            "Message: stale element reference: element is not attached to the page document\n",
            "  (Session info: headless chrome=83.0.4103.61)\n",
            "\n",
            "https://www.j-pop.it/293-j-pop-manga#//page-289\n",
            "Message: stale element reference: element is not attached to the page document\n",
            "  (Session info: headless chrome=83.0.4103.61)\n",
            "\n",
            "https://www.j-pop.it/293-j-pop-manga#//page-290\n",
            "https://www.j-pop.it/293-j-pop-manga#//page-291\n",
            "Message: stale element reference: element is not attached to the page document\n",
            "  (Session info: headless chrome=83.0.4103.61)\n",
            "\n",
            "https://www.j-pop.it/293-j-pop-manga#//page-292\n",
            "https://www.j-pop.it/293-j-pop-manga#//page-293\n",
            "https://www.j-pop.it/293-j-pop-manga#//page-294\n",
            "Message: stale element reference: element is not attached to the page document\n",
            "  (Session info: headless chrome=83.0.4103.61)\n",
            "\n",
            "https://www.j-pop.it/293-j-pop-manga#//page-295\n",
            "Message: stale element reference: element is not attached to the page document\n",
            "  (Session info: headless chrome=83.0.4103.61)\n",
            "\n",
            "https://www.j-pop.it/293-j-pop-manga#//page-296\n",
            "https://www.j-pop.it/293-j-pop-manga#//page-297\n",
            "Message: stale element reference: element is not attached to the page document\n",
            "  (Session info: headless chrome=83.0.4103.61)\n",
            "\n",
            "https://www.j-pop.it/293-j-pop-manga#//page-298\n",
            "Message: stale element reference: element is not attached to the page document\n",
            "  (Session info: headless chrome=83.0.4103.61)\n",
            "\n",
            "https://www.j-pop.it/293-j-pop-manga#//page-299\n",
            "https://www.j-pop.it/293-j-pop-manga#//page-300\n",
            "Message: stale element reference: element is not attached to the page document\n",
            "  (Session info: headless chrome=83.0.4103.61)\n",
            "\n",
            "https://www.j-pop.it/293-j-pop-manga#//page-301\n",
            "https://www.j-pop.it/293-j-pop-manga#//page-302\n"
          ],
          "name": "stdout"
        }
      ]
    },
    {
      "cell_type": "code",
      "metadata": {
        "id": "7RB2V-WQdOMH",
        "colab_type": "code",
        "colab": {}
      },
      "source": [
        "with open('lista_link_manga.txt', 'wb') as fp:\n",
        "    pickle.dump(lista_link_manga, fp)"
      ],
      "execution_count": 20,
      "outputs": []
    },
    {
      "cell_type": "code",
      "metadata": {
        "id": "BvQI_vgh141q",
        "colab_type": "code",
        "colab": {}
      },
      "source": [
        "with open('manga_titoli_list.txt', 'wb') as fp:\n",
        "    pickle.dump(manga_titoli_list, fp)"
      ],
      "execution_count": 69,
      "outputs": []
    },
    {
      "cell_type": "code",
      "metadata": {
        "id": "kmkfVZjKBq5K",
        "colab_type": "code",
        "colab": {}
      },
      "source": [
        "with open ('drive/My Drive/manga_titoli_list.txt', 'rb') as fp:\n",
        "    lista_link_manga = pickle.load(fp)"
      ],
      "execution_count": 10,
      "outputs": []
    },
    {
      "cell_type": "code",
      "metadata": {
        "id": "yY4J_J71dPDR",
        "colab_type": "code",
        "colab": {}
      },
      "source": [
        "#lista_link_manga"
      ],
      "execution_count": 9,
      "outputs": []
    },
    {
      "cell_type": "code",
      "metadata": {
        "id": "3gQxhROkdd4i",
        "colab_type": "code",
        "colab": {
          "base_uri": "https://localhost:8080/",
          "height": 156
        },
        "outputId": "2531e14f-7ca6-457d-afab-d28220b66339"
      },
      "source": [
        "from google.colab import files\n",
        "from google.colab import drive\n",
        "drive.mount('drive')\n",
        "!cp lista_link_manga.txt \"drive/My Drive/\"\n",
        "!cp manga_titoli_list.txt \"drive/My Drive/\""
      ],
      "execution_count": 6,
      "outputs": [
        {
          "output_type": "stream",
          "text": [
            "Go to this URL in a browser: https://accounts.google.com/o/oauth2/auth?client_id=947318989803-6bn6qk8qdgf4n4g3pfee6491hc0brc4i.apps.googleusercontent.com&redirect_uri=urn%3aietf%3awg%3aoauth%3a2.0%3aoob&response_type=code&scope=email%20https%3a%2f%2fwww.googleapis.com%2fauth%2fdocs.test%20https%3a%2f%2fwww.googleapis.com%2fauth%2fdrive%20https%3a%2f%2fwww.googleapis.com%2fauth%2fdrive.photos.readonly%20https%3a%2f%2fwww.googleapis.com%2fauth%2fpeopleapi.readonly\n",
            "\n",
            "Enter your authorization code:\n",
            "··········\n",
            "Mounted at drive\n",
            "cp: cannot stat 'lista_link_manga.txt': No such file or directory\n",
            "cp: cannot stat 'manga_titoli_list.txt': No such file or directory\n"
          ],
          "name": "stdout"
        }
      ]
    },
    {
      "cell_type": "code",
      "metadata": {
        "id": "xNzcmd-3e5Im",
        "colab_type": "code",
        "colab": {}
      },
      "source": [
        "#with open ('C:/Users/pucci/Documents/Programs/lista_link_manga.txt', 'rb') as fp:\n",
        "    # lista_link_manga = pickle.load(fp)"
      ],
      "execution_count": null,
      "outputs": []
    },
    {
      "cell_type": "code",
      "metadata": {
        "id": "nhKBGNE9fBBP",
        "colab_type": "code",
        "colab": {}
      },
      "source": [
        "import re"
      ],
      "execution_count": 22,
      "outputs": []
    },
    {
      "cell_type": "code",
      "metadata": {
        "id": "DDq5TO42k95G",
        "colab_type": "code",
        "colab": {}
      },
      "source": [
        "import requests"
      ],
      "execution_count": 7,
      "outputs": []
    },
    {
      "cell_type": "code",
      "metadata": {
        "id": "5ePe9QkFe7VG",
        "colab_type": "code",
        "colab": {
          "base_uri": "https://localhost:8080/",
          "height": 1000
        },
        "outputId": "47fc0200-6b4c-4df4-df54-3f241119fcb9"
      },
      "source": [
        "manga_dict = []\n",
        "!mkdir -p \"drive/My Drive/Images\" \n",
        "for _ in range(len(lista_link_manga)):\n",
        "    try:\n",
        "        time.sleep(3)\n",
        "        chrome_options=webdriver.ChromeOptions()\n",
        "        chrome_options.add_argument('--headless')\n",
        "        chrome_options.add_argument('--no-sandbox')\n",
        "        chrome_options.add_argument('--disable-dev-shm-usage')\n",
        "        wd = webdriver.Chrome('chromedriver',options=chrome_options)\n",
        "        wd.set_window_size(1900, 1200)\n",
        "        wd.maximize_window()\n",
        "        wd.get(lista_link_manga[_])\n",
        "        titolo =wd.find_element_by_class_name(\"product-name\")\n",
        "        print(titolo.text)\n",
        "        prezzo =wd.find_elements_by_css_selector(\"#buy_block > div.price-box\")\n",
        "        img = wd.find_element_by_class_name(\"main-thumbnail\")\n",
        "        button =wd.find_elements_by_css_selector(\"#center_column > div > div.main-container.col1-layout > div > div > div.product-view.layout_ > div.product-collateral > ul#more_info_tabs > li > a\")\n",
        "        button[1].click()\n",
        "        scheda_tecnica = wd.find_elements_by_css_selector(\"#center_column > div > div.main-container.col1-layout > div > div > div.product-view.layout_ > div.product-collateral > div > ul > li\")\n",
        "        temp_scheda_tecnica = []\n",
        "        for i in range(len(scheda_tecnica)):\n",
        "            temp_scheda_tecnica.append(scheda_tecnica[i].text.split(\"\\n\"))\n",
        "        button[0].click()\n",
        "        di_cosa_si_tratta = wd.find_elements_by_css_selector(\"#center_column > div > div > div > div > div> div.product-collateral\")\n",
        "        manga_dict.append({'url':'',\n",
        "              'titolo':titolo.text,\n",
        "              'prezzo':prezzo[0].text.split(\"\\n\"),\n",
        "              'descrizione':di_cosa_si_tratta[0].text.strip(\"\\n\"),\n",
        "              'scheda_tecnica':temp_scheda_tecnica,\n",
        "              'img_file':img.get_attribute(\"href\")\n",
        "              })\n",
        "        img_file= requests.get(img.get_attribute(\"href\"),stream=True)\n",
        "        if img_file.status_code ==  200:\n",
        "            #with open(\"drive/My Drive/Images\" + str(titolo.text)+ \".jpg\",\"wb\") as f:\n",
        "            with open(\"drive/My Drive/image/\" + img.get_attribute(\"href\").split(\"/\")[-1]+ \".jpg\",\"wb\") as f:\n",
        "                f.write(img_file.content)\n",
        "    except Exception as e :\n",
        "        print(e)\n",
        "        continue"
      ],
      "execution_count": null,
      "outputs": [
        {
          "output_type": "stream",
          "text": [
            "Barbara 001\n",
            "Tokyo After Hours - BOX (1-3)\n",
            "The Proper Way to Write Love\n",
            "Danmachi Sword Oratoria 012\n",
            "So I'm a Spider, So What? 001\n",
            "Va Tutto Bene - Even if I Can't Use Magic\n",
            "Gon 001\n",
            "Hell's Paradise - Jigokuraku 005\n",
            "World's End Harem 007\n",
            "Kingdom 41\n",
            "Getter Robot Devolution - The Last 3 Minutes of the Universe 005\n",
            "Dengeki Travellers 003\n",
            "Horimiya 013\n",
            "HELLSING - Nuova Edizione BOX (1-5)\n",
            "Kota: il Cane che Vive con Noi\n",
            "Love Whispers Even in the Rusted Night\n",
            "Land of the Lustrous 002\n",
            "La Regina d'Egitto: l'occhio azzurro di Horus 003\n",
            "I Giorni della Sposa 012\n",
            "Gon - box (1-3)\n",
            "Il Gioco del Gatto e del Topo - all in one\n",
            "Act-Age 003\n",
            "The Promised Neverland 016\n",
            "Persona 5 005\n",
            "Magical Girl Spec-Ops Asuka 007\n",
            "La Via del Grembiule - Lo Yakuza Casalingo 001\n",
            "The Quintessential Quintuplets 006\n",
            "Killing Stalking - Terza Stagione 002\n",
            "Il bisturi e la spada 002\n",
            "Your Name - Another Side: Earthbound 002 - il manga\n",
            "La Fenice 004 - Libro del Mito\n",
            "Kasane 001\n",
            "Caste Heaven 001\n",
            "Wizdoms\n",
            "Girl from the Other Side 008\n",
            "Message: unknown error: Chrome failed to start: exited abnormally.\n",
            "  (chrome not reachable)\n",
            "  (The process started from chrome location /usr/bin/chromium-browser is no longer running, so ChromeDriver is assuming that Chrome has crashed.)\n",
            "\n",
            "17 Anni 003\n",
            "Dengeki Travellers 002\n",
            "Rikudo 018\n",
            "Danmachi Sword Oratoria 011\n",
            "La Principessa Zaffiro 002\n",
            "Escape Journey 003\n",
            "L'Ombra Venuta dal Tempo 002\n",
            "Radiation House 005\n",
            "L'Eroe è Morto! 017\n",
            "Radiant 012\n",
            "Marginal 003\n",
            "Love Stage! 002\n",
            "Innocent Rouge 011\n",
            "Innocent Rouge 010\n",
            "Your Name - Another Side: Earthbound - il manga BOX\n",
            "Cavie Umane\n",
            "009 Re:Cyborg 002\n",
            "Goblin Slayer 008\n",
            "Barbara 001\n",
            "Tokyo After Hours - BOX (1-3)\n",
            "The Proper Way to Write Love\n",
            "Danmachi Sword Oratoria 012\n",
            "So I'm a Spider, So What? 001\n",
            "Va Tutto Bene - Even if I Can't Use Magic\n",
            "Gon 001\n",
            "Hell's Paradise - Jigokuraku 005\n",
            "World's End Harem 007\n",
            "Il bisturi e la spada 001\n",
            "Act-Age 002\n",
            "The Promised Neverland 015\n",
            "Hell's Paradise - Jigokuraku 004\n",
            "Escape Journey 002\n",
            "Dead Tube 013\n",
            "Killing Stalking - Terza Stagione 001\n",
            "La Regina d'Egitto: l'occhio azzurro di Horus 002\n",
            "The Quintessential Quintuplets 005\n",
            "Marginal 002\n",
            "La Fenice 003 - Libri di Yamato e dell'Universo\n",
            "The Rising Of The Shield Hero 014\n",
            "Love Stage! 001\n",
            "The Promised Neverland 014\n",
            "Bloom Into You 008\n",
            "17 Anni 002\n",
            "Devilman Saga 011\n",
            "Horimiya 012\n",
            "La Divisa Scolastica di Akebi 005\n",
            "World's End Harem 005\n",
            "Act-Age 001\n",
            "Marginal 001\n",
            "I Gatti del Louvre 002\n",
            "Radiation House 004\n",
            "Ballad X Opera 05\n",
            "Gli Spiriti Di Casa Momochi 016\n",
            "Golden Kamui 019\n",
            "Barbara 001\n"
          ],
          "name": "stdout"
        }
      ]
    },
    {
      "cell_type": "code",
      "metadata": {
        "id": "HQqIYzJsq-7j",
        "colab_type": "code",
        "colab": {
          "base_uri": "https://localhost:8080/",
          "height": 35
        },
        "outputId": "5db891b3-da08-44d5-b5b9-b15a722f3468"
      },
      "source": [
        "lista_link_manga[50]"
      ],
      "execution_count": 24,
      "outputs": [
        {
          "output_type": "execute_result",
          "data": {
            "application/vnd.google.colaboratory.intrinsic+json": {
              "type": "string"
            },
            "text/plain": [
              "'https://www.j-pop.it/your-name-kimi-no-na-wa/5253-your-name-another-side-earthbound-il-manga-box.html'"
            ]
          },
          "metadata": {
            "tags": []
          },
          "execution_count": 24
        }
      ]
    },
    {
      "cell_type": "code",
      "metadata": {
        "id": "unojtnsmpoGt",
        "colab_type": "code",
        "colab": {
          "base_uri": "https://localhost:8080/",
          "height": 163
        },
        "outputId": "0653592f-cc78-4448-e578-b766820a07b7"
      },
      "source": [
        "manga_dict"
      ],
      "execution_count": 1,
      "outputs": [
        {
          "output_type": "error",
          "ename": "NameError",
          "evalue": "ignored",
          "traceback": [
            "\u001b[0;31m---------------------------------------------------------------------------\u001b[0m",
            "\u001b[0;31mNameError\u001b[0m                                 Traceback (most recent call last)",
            "\u001b[0;32m<ipython-input-1-78998cf43ebc>\u001b[0m in \u001b[0;36m<module>\u001b[0;34m()\u001b[0m\n\u001b[0;32m----> 1\u001b[0;31m \u001b[0mmanga_dict\u001b[0m\u001b[0;34m\u001b[0m\u001b[0;34m\u001b[0m\u001b[0m\n\u001b[0m",
            "\u001b[0;31mNameError\u001b[0m: name 'manga_dict' is not defined"
          ]
        }
      ]
    },
    {
      "cell_type": "code",
      "metadata": {
        "id": "N6-qvl9qfhhu",
        "colab_type": "code",
        "colab": {
          "base_uri": "https://localhost:8080/",
          "height": 51
        },
        "outputId": "e24e38b1-8945-46d6-a739-2cdb2dba56e6"
      },
      "source": [
        "manga_titoli_list=[]\n",
        "for i in range(0,2):\n",
        "  time.sleep(4)\n",
        "  print(lista_link_manga[i])\n",
        "  chrome_options=webdriver.ChromeOptions()\n",
        "  chrome_options.add_argument('--headless')\n",
        "  chrome_options.add_argument('--no-sandbox')\n",
        "  chrome_options.add_argument('--disable-dev-shm-usage')\n",
        "  wd = webdriver.Chrome('chromedriver',options=chrome_options)\n",
        "  wd.set_window_size(1900, 1200)\n",
        "  wd.maximize_window()\n",
        "  wd.get(lista_link_manga[i])\n",
        "  elems = wd.find_elements_by_xpath(\"//*[@id=\\\"grid_view_product\\\"]/li/div/div/div/div[2]/a\")\n",
        "  try:\n",
        "    for elem in elems:\n",
        "      manga_titoli_list.append(elem.get_attribute(\"href\"))\n",
        "  except Exception as e :\n",
        "    print(e)\n",
        "    continue\n"
      ],
      "execution_count": 64,
      "outputs": [
        {
          "output_type": "stream",
          "text": [
            "https://www.j-pop.it/293-j-pop-manga\n",
            "https://www.j-pop.it/293-j-pop-manga#//page-2\n"
          ],
          "name": "stdout"
        }
      ]
    },
    {
      "cell_type": "code",
      "metadata": {
        "id": "lXM0udechcSS",
        "colab_type": "code",
        "colab": {}
      },
      "source": [
        "import pandas as pd\n",
        "ds_manga_dict = pd.DataFrame(manga_dict)\n",
        "ds_manga_dict.to_csv(\"drive/My Drive/ds_manga_dict_first50.csv\",index=False,header=True,sep=\"\\t\")"
      ],
      "execution_count": null,
      "outputs": []
    },
    {
      "cell_type": "code",
      "metadata": {
        "id": "fXXaY8fFi5p8",
        "colab_type": "code",
        "colab": {}
      },
      "source": [
        "a[0].get_attribute(\"href\")"
      ],
      "execution_count": 45,
      "outputs": []
    },
    {
      "cell_type": "code",
      "metadata": {
        "id": "EOtuul_3jBZH",
        "colab_type": "code",
        "colab": {}
      },
      "source": [
        "a =wd.find_elements_by_css_selector(\"#grid_view_product > li:nth-child(2) > div.box-product-item > div > div > div > a\") "
      ],
      "execution_count": 53,
      "outputs": []
    },
    {
      "cell_type": "code",
      "metadata": {
        "id": "tsiBTXBYkBs1",
        "colab_type": "code",
        "colab": {
          "base_uri": "https://localhost:8080/",
          "height": 34
        },
        "outputId": "6260463d-d300-404a-cd0b-561773279ad4"
      },
      "source": [
        "print(len(a))"
      ],
      "execution_count": 54,
      "outputs": [
        {
          "output_type": "stream",
          "text": [
            "2\n"
          ],
          "name": "stdout"
        }
      ]
    },
    {
      "cell_type": "code",
      "metadata": {
        "id": "GMRQX4tIkCMr",
        "colab_type": "code",
        "colab": {
          "base_uri": "https://localhost:8080/",
          "height": 170
        },
        "outputId": "ec203874-383f-42df-b015-1164f2790547"
      },
      "source": [
        "elems = wd.find_elements_by_xpath(\"//*[@id=\\\"grid_view_product\\\"]/li/div/div/div/div[2]/a\")\n",
        "for elem in elems:\n",
        "    print(elem.get_attribute(\"href\"))"
      ],
      "execution_count": 60,
      "outputs": [
        {
          "output_type": "stream",
          "text": [
            "https://www.j-pop.it/kingdom/5301-kingdom-41.html\n",
            "https://www.j-pop.it/getter-robot-devolution-the-last-3-minutes-of-the-universe/5300-getter-robot-devolution-the-last-3-minutes-of-the-universe-005.html\n",
            "https://www.j-pop.it/dengeki-travellers/5299-dengeki-travellers-003.html\n",
            "https://www.j-pop.it/horimiya/5298-horimiya-013.html\n",
            "https://www.j-pop.it/hellsing/5297-hellsing-nuova-edizione-box-1-5.html\n",
            "https://www.j-pop.it/kota-il-cane-che-vive-con-noi/5296-kota-il-cane-che-vive-con-noi.html\n",
            "https://www.j-pop.it/love-whispers-even-in-the-rusted-nights/5295-love-whispers-even-in-the-rusted-night.html\n",
            "https://www.j-pop.it/land-of-the-lustrous/5294-land-of-the-lustrous-002.html\n",
            "https://www.j-pop.it/la-regina-d-egitto/5293-la-regina-d-egitto-l-occhio-azzurro-di-horus-003.html\n"
          ],
          "name": "stdout"
        }
      ]
    },
    {
      "cell_type": "code",
      "metadata": {
        "id": "G-09OTbikGmO",
        "colab_type": "code",
        "colab": {}
      },
      "source": [
        ""
      ],
      "execution_count": null,
      "outputs": []
    }
  ]
}